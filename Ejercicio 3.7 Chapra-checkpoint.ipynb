{
 "cells": [
  {
   "cell_type": "code",
   "execution_count": 5,
   "metadata": {
    "collapsed": false
   },
   "outputs": [
    {
     "name": "stdout",
     "output_type": "stream",
     "text": [
      "|   y Analitico |   y Aproximado |   Error R. |   y Analitico |   y Aproximado |   Error R. |\n",
      "|---------------+----------------+------------+---------------+----------------+------------|\n",
      "|      0.743053 |          0.743 | 0.00713273 |      0.743053 |          0.743 | 0.00713273 |\n"
     ]
    }
   ],
   "source": [
    "import math\n",
    "from tabulate import tabulate\n",
    "x=1.37\n",
    "# Inciso a\n",
    "yanalitico=(math.pow(x,3)-7*math.pow(x,2)+8*x+0.35)\n",
    "yaproximado=float(format((math.pow(x,3)-7*math.pow(x,2)+8*x+0.35), '.3g'))\n",
    "Ev=yanalitico-yaproximado\n",
    "Erpv=(Ev/yanalitico)*100\n",
    "tab=[]\n",
    "# Inciso b\n",
    "yanalitico1=((x-7)*x+8)*x+0.35\n",
    "yaproximado1=float(format((((x-7)*x+8)*x+0.35),'.3g'))\n",
    "Ev1=yanalitico1-yaproximado1\n",
    "Erpv1=(Ev1/yanalitico1)*100\n",
    "tab.append([yanalitico, yaproximado, Erpv, yanalitico1, yaproximado1, Erpv1])\n",
    "print tabulate(tab,headers=[\"y Analitico\", \"y Aproximado\", \"Error R.\", \"y Analitico\", \"y Aproximado\", \"Error R.\"], tablefmt=\"orgtbl\")\n",
    "# El cálculo de los errores relativos porcentuales para ambos incisos dio el mismo resultado ya que las funciones eran\n",
    "# las mismas solo que expresadas de diferente forma y se evaluaba a x con el mismo valor."
   ]
  },
  {
   "cell_type": "code",
   "execution_count": null,
   "metadata": {
    "collapsed": true
   },
   "outputs": [],
   "source": []
  }
 ],
 "metadata": {
  "kernelspec": {
   "display_name": "Python 2",
   "language": "python",
   "name": "python2"
  },
  "language_info": {
   "codemirror_mode": {
    "name": "ipython",
    "version": 2
   },
   "file_extension": ".py",
   "mimetype": "text/x-python",
   "name": "python",
   "nbconvert_exporter": "python",
   "pygments_lexer": "ipython2",
   "version": "2.7.11"
  }
 },
 "nbformat": 4,
 "nbformat_minor": 0
}
