{
 "cells": [
  {
   "cell_type": "code",
   "execution_count": 7,
   "metadata": {
    "collapsed": false
   },
   "outputs": [
    {
     "name": "stdout",
     "output_type": "stream",
     "text": [
      "|   Iteracion |     Raiz |         Et |\n",
      "|-------------+----------+------------|\n",
      "|           0 | 0.6127   | 8.04088    |\n",
      "|           1 | 0.572181 | 0.896035   |\n",
      "|           2 | 0.567703 | 0.106368   |\n",
      "|           3 | 0.567206 | 0.0186127  |\n",
      "|           4 | 0.56715  | 0.00885457 |\n",
      "|           5 | 0.567144 | 0.00776942 |\n",
      "|           6 | 0.567143 | 0.00764875 |\n",
      "|           7 | 0.567143 | 0.00763533 |\n",
      "|           8 | 0.567143 | 0.00763383 |\n",
      "|           9 | 0.567143 | 0.00763367 |\n"
     ]
    }
   ],
   "source": [
    "import math\n",
    "from tabulate import tabulate\n",
    "xu,xl,fc1,fc2,tab=1.0,0.0,1,1,[]\n",
    "def funcion(num):\n",
    "    fxb=(math.exp(-num)-num)\n",
    "    return fxb\n",
    "i=0\n",
    "while (fc1*fc2)!=0:\n",
    "    xr=xu-((funcion(xu)*(xl-xu))/(funcion(xl)-(funcion(xu))))\n",
    "    fc1=funcion(xl)\n",
    "    fc2=funcion(xr)\n",
    "    if (fc1*fc2)<0:\n",
    "        xu=xr\n",
    "    if (fc1*fc2)>0:\n",
    "        xl=xr\n",
    "    Erpv=math.fabs(((0.5671-xr)/0.5671)*100)\n",
    "    tab.append([i,xr,Erpv])\n",
    "    i+=1\n",
    "    if (i==10):\n",
    "        break\n",
    "print tabulate (tab, headers=[\"Iteracion\", \"Raiz\", \"Et\"],tablefmt='orgtbl')"
   ]
  }
 ],
 "metadata": {
  "kernelspec": {
   "display_name": "Python 2",
   "language": "python",
   "name": "python2"
  },
  "language_info": {
   "codemirror_mode": {
    "name": "ipython",
    "version": 2
   },
   "file_extension": ".py",
   "mimetype": "text/x-python",
   "name": "python",
   "nbconvert_exporter": "python",
   "pygments_lexer": "ipython2",
   "version": "2.7.11"
  }
 },
 "nbformat": 4,
 "nbformat_minor": 0
}
