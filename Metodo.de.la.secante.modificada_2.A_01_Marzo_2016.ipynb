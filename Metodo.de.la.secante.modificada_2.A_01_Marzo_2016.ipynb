{
 "cells": [
  {
   "cell_type": "code",
   "execution_count": 3,
   "metadata": {
    "collapsed": false
   },
   "outputs": [
    {
     "name": "stdout",
     "output_type": "stream",
     "text": [
      "|   Iteracion |     Raiz |         Et |\n",
      "|-------------+----------+------------|\n",
      "|           0 | 0.537263 | 5.26139    |\n",
      "|           1 | 0.56701  | 0.0159257  |\n",
      "|           2 | 0.567143 | 0.00765723 |\n",
      "|           3 | 0.567143 | 0.00763362 |\n",
      "|           4 | 0.567143 | 0.00763365 |\n",
      "|           5 | 0.567143 | 0.00763365 |\n",
      "|           6 | 0.567143 | 0.00763365 |\n",
      "|           7 | 0.567143 | 0.00763365 |\n",
      "|           8 | 0.567143 | 0.00763365 |\n",
      "|           9 | 0.567143 | 0.00763365 |\n"
     ]
    }
   ],
   "source": [
    "import math\n",
    "from tabulate import tabulate\n",
    "i=0\n",
    "xo=1\n",
    "s=0.01\n",
    "k=(xo+(s*xo))\n",
    "tab=[]\n",
    "while i<10:\n",
    "    fmas1=xo-((s*xo)*((math.exp(-xo))-xo))/((math.exp(-k)-k)-(math.exp(-xo)-xo))\n",
    "    xo=fmas1\n",
    "    k=(xo+(s*xo))\n",
    "    Erpv=math.fabs(((0.5671-fmas1)/0.5671)*100)\n",
    "    tab.append([i,fmas1,Erpv])\n",
    "    i+=1\n",
    "print tabulate (tab,headers=[\"Iteracion\", \"Raiz\", \"Et\"],tablefmt='orgtbl')"
   ]
  }
 ],
 "metadata": {
  "kernelspec": {
   "display_name": "Python 2",
   "language": "python",
   "name": "python2"
  },
  "language_info": {
   "codemirror_mode": {
    "name": "ipython",
    "version": 2
   },
   "file_extension": ".py",
   "mimetype": "text/x-python",
   "name": "python",
   "nbconvert_exporter": "python",
   "pygments_lexer": "ipython2",
   "version": "2.7.11"
  }
 },
 "nbformat": 4,
 "nbformat_minor": 0
}
