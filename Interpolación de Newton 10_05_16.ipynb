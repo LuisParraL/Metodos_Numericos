{
 "cells": [
  {
   "cell_type": "code",
   "execution_count": 3,
   "metadata": {
    "collapsed": false
   },
   "outputs": [
    {
     "name": "stdout",
     "output_type": "stream",
     "text": [
      "Ingrese el numero de puntos: 3\n",
      "Ingrese el x al cual quiere estimar: 2\n",
      "Ingrese el X0: 1\n",
      "Ingrese el X1: 4\n",
      "Ingrese el X2: 6\n",
      "Aprox. a ln de 2 : 0.565844\n"
     ]
    }
   ],
   "source": [
    "import math\n",
    "import matplotlib.pyplot as plt\n",
    "n,X,xi,y,fdd,yint,ea,yint2 = 0,[],2.0,[],[],[],[],0.0\n",
    "t,t1,vec,t2=[],[],[],[]\n",
    "n = int(raw_input(\"Ingrese el numero de puntos: \"))\n",
    "xi= float(raw_input(\"Ingrese el x al cual quiere estimar: \"))\n",
    "\n",
    "for i in range(n):\n",
    "    X.append(float(raw_input(\"Ingrese el X%d: \"%(i))))\n",
    "    fdd.append([0.0]*n)\n",
    "\n",
    "    \n",
    "for k in range(n):\n",
    "    y.append(math.log(X[k]))\n",
    "    \n",
    "def log (b):\n",
    "    return math.log(b)\n",
    "\n",
    "def fun (X, y, n, xi, yint,ea):\n",
    "    for i in range(0,n):\n",
    "        fdd[i][0] = y[i]\n",
    "    for j in range(1,n):\n",
    "        for i in range(0,n-j):\n",
    "            fdd[i][j]=(fdd[i+1][j-1]-fdd[i][j-1])/(X[i+j]-X[i])\n",
    "    xterm = 1.0\n",
    "    yint.append(fdd[0][0])\n",
    "    for order in range(1,n):\n",
    "        xterm = xterm * (xi - X[order-1])\n",
    "        yint2 = yint[order-1] + fdd[0][order] * xterm\n",
    "        ea.append(yint2 - yint[order-1])\n",
    "        yint.append(yint2)\n",
    "    auxiliar(yint2)    \n",
    "    return yint2\n",
    "\n",
    "def auxiliar (a):\n",
    "    global u\n",
    "    u=a\n",
    "\n",
    "log1=[]\n",
    "for l in range (1,13):\n",
    "    t1.append(l)\n",
    "    log1.append(math.log(l))\n",
    "    \n",
    "print \"Aprox. a ln de %d : %f\"%(xi,fun(X,y,n,xi,yint,ea))\n",
    "plt.plot(xi,u, 'v', linewidth=3.0,label=\"Apox. x int. Newton=\"+str(u))\n",
    "plt.plot(t1,log1, linewidth=3.0, label=\"f(x)=ln(x)\")\n",
    "plt.plot(X,y, 'bo',linewidth=2.0, label=\"Puntos\")\n",
    "plt.plot(xi,log(xi), 'ro',linewidth=3.0, label=\"Valor Verdadero=\"+str(log(xi)))\n",
    "plt.xlabel('x')\n",
    "plt.ylabel('f(x)')\n",
    "plt.axis([0,6,0,3])\n",
    "plt.grid(True)\n",
    "plt.legend(loc=\"upper left\", numpoints=1)\n",
    "plt.show()"
   ]
  }
 ],
 "metadata": {
  "kernelspec": {
   "display_name": "Python 2",
   "language": "python",
   "name": "python2"
  },
  "language_info": {
   "codemirror_mode": {
    "name": "ipython",
    "version": 2
   },
   "file_extension": ".py",
   "mimetype": "text/x-python",
   "name": "python",
   "nbconvert_exporter": "python",
   "pygments_lexer": "ipython2",
   "version": "2.7.11"
  }
 },
 "nbformat": 4,
 "nbformat_minor": 0
}
