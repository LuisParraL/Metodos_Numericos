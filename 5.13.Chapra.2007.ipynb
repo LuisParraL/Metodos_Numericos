{
 "cells": [
  {
   "cell_type": "code",
   "execution_count": 27,
   "metadata": {
    "collapsed": false
   },
   "outputs": [
    {
     "name": "stdout",
     "output_type": "stream",
     "text": [
      "|   Iteracion |    Raiz |   Error Aprox. (%) |\n",
      "|-------------+---------+--------------------|\n",
      "|           1 | 59.8462 |      100           |\n",
      "|           2 | 59.8412 |        0.00830489  |\n",
      "|           3 | 59.8411 |        0.000268207 |\n"
     ]
    },
    {
     "data": {
      "image/png": "[encoded data removed]",
      "text/plain": [
       "<matplotlib.figure.Figure at 0x7366b00>"
      ]
     },
     "metadata": {},
     "output_type": "display_data"
    }
   ],
   "source": [
    "import math\n",
    "from tabulate import tabulate\n",
    "import matplotlib.pyplot as plt\n",
    "%matplotlib inline\n",
    "t,z,fc1,fc2,xl,xu,tab,vv=[],[],1.0,1.0,55,60,[],59.8389\n",
    "Es=0.001\n",
    "for i in range (1,100):\n",
    "    t.append(i)\n",
    "    fm=((((9.8*i)/15.0)*(1-math.exp(-(15.0/i)*9.0)))-35.0)\n",
    "    z.append(fm)\n",
    "    \n",
    "def funcion (num):\n",
    "    fx=((((9.8*num)/15.0)*(1-math.exp(-(15.0/num)*9.0)))-35.0)\n",
    "    return fx\n",
    "\n",
    "i=0\n",
    "xr=0\n",
    "while ((fc1*fc2)!=0):\n",
    "    xra=xr\n",
    "    f2=funcion(xu)\n",
    "    f1=funcion(xl)\n",
    "    xr=xu-(f2*(xl-xu))/(f1-f2)\n",
    "    Ea=math.fabs(((xr-xra)/xr)*100)\n",
    "    fc1=funcion(xl)\n",
    "    fc2=funcion(xr)\n",
    "    if ((fc1*fc2)<0):\n",
    "        xu=xr\n",
    "    if((fc1*fc2)>0):\n",
    "        xl=xr\n",
    "    i+=1\n",
    "    tab.append([i,xr,Ea])\n",
    "    if (Ea<Es):\n",
    "        break\n",
    "print tabulate (tab,headers=[\"Iteracion\", \"Raiz\",\"Error Aprox. (%)\"],tablefmt='orgtbl')        \n",
    "plt.plot(t,z)\n",
    "plt.plot(vv,0, 'cs', label='Raiz Exacta=59.841')\n",
    "plt.legend(loc = 'upper right', numpoints = 1)\n",
    "plt.grid(True)\n",
    "plt.show()"
   ]
  }
 ],
 "metadata": {
  "kernelspec": {
   "display_name": "Python 2",
   "language": "python",
   "name": "python2"
  },
  "language_info": {
   "codemirror_mode": {
    "name": "ipython",
    "version": 2
   },
   "file_extension": ".py",
   "mimetype": "text/x-python",
   "name": "python",
   "nbconvert_exporter": "python",
   "pygments_lexer": "ipython2",
   "version": "2.7.11"
  }
 },
 "nbformat": 4,
 "nbformat_minor": 0
}
