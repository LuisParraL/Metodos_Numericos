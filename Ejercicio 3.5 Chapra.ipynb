{
 "cells": [
  {
   "cell_type": "code",
   "execution_count": 10,
   "metadata": {
    "collapsed": false,
    "scrolled": true
   },
   "outputs": [
    {
     "name": "stdout",
     "output_type": "stream",
     "text": [
      "|   i |       V. Apr |         ERPV. |   Err Aprox. |      V Apr |            ERPV |       Err Apr |\n",
      "|-----+--------------+---------------+--------------+------------+-----------------+---------------|\n",
      "|   1 |   1          |  14741.3      |    100       | 1          | 14741.3         | 100           |\n",
      "|   2 |  -4          |  59465.3      |    125       | 0.166667   |  2373.55        | 500           |\n",
      "|   3 |   8.5        | 126051        |    147.059   | 0.0540541  |   702.233       | 208.333       |\n",
      "|   4 | -12.3333     | 183143        |    168.919   | 0.0254237  |   277.322       | 112.613       |\n",
      "|   5 |  13.7083     | 203350        |    189.97    | 0.0152964  |   127.018       |  66.2076      |\n",
      "|   6 | -12.3333     | 183143        |    211.149   | 0.0109389  |    62.348       |  39.8343      |\n",
      "|   7 |   9.36806    | 138934        |    231.653   | 0.00884032 |    31.202       |  23.739       |\n",
      "|   8 |  -6.13294    |  91120.8      |    252.75    | 0.0077749  |    15.3897      |  13.7034      |\n",
      "|   9 |   3.55518    |  52663.6      |    272.507   | 0.00723028 |     7.30692     |   7.53241     |\n",
      "|  10 |  -1.82711    |  27216.6      |    294.58    | 0.00695945 |     3.28744     |   3.89155     |\n",
      "|  11 |   0.864039   |  12723.5      |    311.461   | 0.00683151 |     1.38854     |   1.87289     |\n",
      "|  12 |  -0.359208   |   5431.13     |    340.54    | 0.00677489 |     0.548299    |   0.835662    |\n",
      "|  13 |   0.150478   |   2133.29     |    338.712   | 0.00675158 |     0.202294    |   0.345307    |\n",
      "|  14 |  -0.0455552  |    776.099    |    430.32    | 0.00674265 |     0.0698478   |   0.132353    |\n",
      "|  15 |   0.0244567  |    262.969    |    286.269   | 0.00673947 |     0.0226305   |   0.0472066   |\n",
      "|  16 |   0.00111938 |     83.3869   |   2084.84    | 0.00673841 |     0.0069013   |   0.0157281   |\n",
      "|  17 |   0.00841228 |     24.8494   |     86.6935  | 0.00673808 |     0.00198694  |   0.00491426  |\n",
      "|  18 |   0.00626731 |      6.98485  |     34.2247  | 0.00673798 |     0.000541637 |   0.0014453   |\n",
      "|  19 |   0.00686314 |      1.85799  |      8.68153 | 0.00673796 |     0.00014017  |   0.000401466 |\n",
      "|  20 |   0.00670634 |      0.469074 |      2.33803 | 0.00673795 |     3.45214e-05 |   0.000105649 |\n"
     ]
    }
   ],
   "source": [
    "import math\n",
    "from tabulate import tabulate\n",
    "x=-5\n",
    "y=5\n",
    "ValorV=math.exp(x)\n",
    "ValorV1=1/math.exp(y)\n",
    "actual=0\n",
    "actual1=0\n",
    "actual2=0\n",
    "tab=[]\n",
    "for i in range (20):\n",
    "    e=(math.pow(x,i))/math.factorial(i)\n",
    "    c=((math.pow(y,i))/math.factorial(i))\n",
    "    anterior1=actual2\n",
    "    actual1=(c+actual1)\n",
    "    actual2=1/actual1 \n",
    "    anterior=actual\n",
    "    actual=(e+actual)\n",
    "    Ev=(ValorV-actual)\n",
    "    Ev1=(ValorV1-actual2)\n",
    "    Erpv=math.fabs((Ev/ValorV)*100)\n",
    "    Erpv1=math.fabs((Ev1/ValorV1)*100)\n",
    "    Ea=math.fabs(((actual-anterior)/actual)*100)\n",
    "    Ea1=math.fabs(((actual2-anterior1)/actual2)*100)\n",
    "    tab.append([i+1, actual, Erpv, Ea, actual2, Erpv1, Ea1])\n",
    "    i+=1\n",
    "    \n",
    "print tabulate(tab,headers=[\"i\", \"V. Apr\", \"ERPV.\", \"Err Aprox.\",  \"V Apr\", \"ERPV\", \"Err Apr\"], tablefmt=\"orgtbl\")"
   ]
  },
  {
   "cell_type": "code",
   "execution_count": null,
   "metadata": {
    "collapsed": true
   },
   "outputs": [],
   "source": []
  }
 ],
 "metadata": {
  "kernelspec": {
   "display_name": "Python 2",
   "language": "python",
   "name": "python2"
  },
  "language_info": {
   "codemirror_mode": {
    "name": "ipython",
    "version": 2
   },
   "file_extension": ".py",
   "mimetype": "text/x-python",
   "name": "python",
   "nbconvert_exporter": "python",
   "pygments_lexer": "ipython2",
   "version": "2.7.11"
  }
 },
 "nbformat": 4,
 "nbformat_minor": 0
}
