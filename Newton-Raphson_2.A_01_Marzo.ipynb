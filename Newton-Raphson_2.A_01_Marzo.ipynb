{
 "cells": [
  {
   "cell_type": "code",
   "execution_count": 3,
   "metadata": {
    "collapsed": false
   },
   "outputs": [
    {
     "name": "stdout",
     "output_type": "stream",
     "text": [
      "|   Iteracion |     Raiz |           Et |\n",
      "|-------------+----------+--------------|\n",
      "|           0 | 0        | 100          |\n",
      "|           1 | 0.5      |  11.8321     |\n",
      "|           2 | 0.566311 |   0.139128   |\n",
      "|           3 | 0.567143 |   0.00761154 |\n",
      "|           4 | 0.567143 |   0.00763365 |\n",
      "|           5 | 0.567143 |   0.00763365 |\n",
      "|           6 | 0.567143 |   0.00763365 |\n",
      "|           7 | 0.567143 |   0.00763365 |\n",
      "|           8 | 0.567143 |   0.00763365 |\n",
      "|           9 | 0.567143 |   0.00763365 |\n"
     ]
    }
   ],
   "source": [
    "import math\n",
    "from tabulate import tabulate\n",
    "fun,tab=-1,[]\n",
    "for j in range (10):\n",
    "    fun=fun-((math.exp(-fun)-fun)/(-math.exp(-fun)-1))\n",
    "    Erpv=math.fabs(((0.5671-fun)/0.5671)*100)\n",
    "    tab.append([j, fun, Erpv])\n",
    "print tabulate (tab,headers=[\"Iteracion\", \"Raiz\", \"Et\"], tablefmt='orgtbl')"
   ]
  }
 ],
 "metadata": {
  "kernelspec": {
   "display_name": "Python 2",
   "language": "python",
   "name": "python2"
  },
  "language_info": {
   "codemirror_mode": {
    "name": "ipython",
    "version": 2
   },
   "file_extension": ".py",
   "mimetype": "text/x-python",
   "name": "python",
   "nbconvert_exporter": "python",
   "pygments_lexer": "ipython2",
   "version": "2.7.11"
  }
 },
 "nbformat": 4,
 "nbformat_minor": 0
}
