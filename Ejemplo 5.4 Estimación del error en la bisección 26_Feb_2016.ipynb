{
 "cells": [
  {
   "cell_type": "code",
   "execution_count": 10,
   "metadata": {
    "collapsed": false
   },
   "outputs": [
    {
     "name": "stdout",
     "output_type": "stream",
     "text": [
      "|   Iteracion |    xl |      xu |      xr |     Ea (%) |    Raiz |    F(c) |\n",
      "|-------------+-------+---------+---------+------------+---------+---------|\n",
      "|           1 | 14    | 16      | 14      | 100        | 14      | 51.1443 |\n",
      "|           2 | 14    | 15      | 15      |   6.66667  | 15      | 44.9205 |\n",
      "|           3 | 14.5  | 15      | 14.5    |   3.44828  | 14.5    | 39.2634 |\n",
      "|           4 | 14.75 | 15      | 14.75   |   1.69492  | 14.75   | 34.1148 |\n",
      "|           5 | 14.75 | 14.875  | 14.875  |   0.840336 | 14.875  | 29.4232 |\n",
      "|           6 | 14.75 | 14.8125 | 14.8125 |   0.421941 | 14.8125 | 25.1424 |\n"
     ]
    },
    {
     "data": {
      "image/png": "[encoded data removed]",
      "text/plain": [
       "<matplotlib.figure.Figure at 0x750d400>"
      ]
     },
     "metadata": {},
     "output_type": "display_data"
    }
   ],
   "source": [
    "import math\n",
    "import matplotlib.pyplot as plt\n",
    "from tabulate import tabulate\n",
    "%matplotlib inline\n",
    "m=68.1\n",
    "g=9.8\n",
    "v=40.0\n",
    "t=10.0\n",
    "t=[]\n",
    "f=[]\n",
    "tab=[]\n",
    "xl=12.0\n",
    "xu=16.0\n",
    "xr=0.0\n",
    "fc1=1.0\n",
    "fc2=1.0\n",
    "i=1\n",
    "Ea=0.0\n",
    "Es=0.5*math.pow(10,0)\n",
    "def funcion2(num):\n",
    "    fc=((g*m)/num)*(1-math.exp(-(num/68.1)*10.0))-v\n",
    "    return fc\n",
    "    tab.append([fc])\n",
    "while ((fc1*fc2)!=0):\n",
    "    ant=xr\n",
    "    xr=(xl+xu)/2\n",
    "    Ea=math.fabs((xr-ant)/xr)*100\n",
    "    fc1=funcion2(xl)\n",
    "    fc2=funcion2(xr)\n",
    "    if ((fc1*fc2)<0):\n",
    "        xu=xr\n",
    "    if((fc1*fc2)>0):\n",
    "        xl=xr\n",
    "    c=i*1\n",
    "    fc=((g*m)/c)*(1-math.exp(-(c/68.1)*10.0))-v\n",
    "    f.append(fc)\n",
    "    t.append(c)\n",
    "    i+=1\n",
    "    tab.append([c,xl,xu, xr, Ea,xr,fc])\n",
    "    if(Ea<Es):\n",
    "        break\n",
    "print tabulate(tab,headers=[\"Iteracion\", \"xl\", \"xu\", \"xr\", \"Ea (%)\", \"Raiz\", \"F(c)\"],tablefmt='orgtbl')\n",
    "plt.plot(t,f)\n",
    "plt.xlabel('c')\n",
    "plt.ylabel('f(c)')\n",
    "plt.grid(True)\n",
    "plt.show()"
   ]
  }
 ],
 "metadata": {
  "kernelspec": {
   "display_name": "Python 2",
   "language": "python",
   "name": "python2"
  },
  "language_info": {
   "codemirror_mode": {
    "name": "ipython",
    "version": 2
   },
   "file_extension": ".py",
   "mimetype": "text/x-python",
   "name": "python",
   "nbconvert_exporter": "python",
   "pygments_lexer": "ipython2",
   "version": "2.7.11"
  }
 },
 "nbformat": 4,
 "nbformat_minor": 0
}
