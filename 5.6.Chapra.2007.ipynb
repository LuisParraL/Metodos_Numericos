{
 "cells": [
  {
   "cell_type": "code",
   "execution_count": 40,
   "metadata": {
    "collapsed": false
   },
   "outputs": [
    {
     "name": "stdout",
     "output_type": "stream",
     "text": [
      "        Bisección     \n",
      "~~~~~~~~~~~~~~~~~~~~~~~~\n",
      "|   Iteracion |   Raiz |\n",
      "|-------------+--------|\n",
      "|           1 | 1.25   |\n",
      "|           2 | 1.625  |\n",
      "|           3 | 1.4375 |\n",
      " \n",
      "     Falsa Posición     \n",
      "~~~~~~~~~~~~~~~~~~~~~~~~~\n",
      "|   Iteracion |    Raiz |\n",
      "|-------------+---------|\n",
      "|           1 | 1.62871 |\n",
      "|           2 | 1.49701 |\n",
      "|           3 | 1.4484  |\n"
     ]
    }
   ],
   "source": [
    "import math\n",
    "from tabulate import tabulate\n",
    "import matplotlib.pyplot as plt\n",
    "t,z,xl,xu,fc1,fc2,tab,fc11,fc22,tab1,xu1,xl1,vv=[],[],0.5,2.0,1.0,1.0,[],1.0,1.0,[],2.0,0.5,1.41906\n",
    "print \"        Bisección     \"\n",
    "print \"~~~~~~~~~~~~~~~~~~~~~~~~\"\n",
    "for i in range(1,9):\n",
    "    fx=math.log(math.pow(i,2))-0.7\n",
    "    z.append(fx)\n",
    "    t.append(i)\n",
    "    \n",
    "def funcion (num):\n",
    "    fx=math.log(math.pow(num,2))-0.7\n",
    "    return fx\n",
    "\n",
    "j=0\n",
    "while (fc1*fc2)!=0:\n",
    "    xr=(xu+xl)/2\n",
    "    fc1=funcion(xl)\n",
    "    fc2=funcion(xr)\n",
    "    if ((fc1*fc2)<0):\n",
    "        xu=xr\n",
    "    if ((fc1*fc2)>0):\n",
    "        xl=xr\n",
    "    j+=1\n",
    "    tab.append([j,xr])\n",
    "    if (j==3):\n",
    "        break\n",
    "print tabulate (tab,headers=[\"Iteracion\", \"Raiz\"],tablefmt='orgtbl')\n",
    "\n",
    "print \" \"\n",
    "print \"     Falsa Posición     \"\n",
    "print \"~~~~~~~~~~~~~~~~~~~~~~~~~\"\n",
    "\n",
    "def funcion2 (num):\n",
    "    fx=math.log(math.pow(num,2))-0.7\n",
    "    return fx\n",
    "\n",
    "k=0\n",
    "while (fc11*fc22)!=0:\n",
    "    f2=funcion2(xu1)\n",
    "    f1=funcion2(xl1)\n",
    "    xr1=xu1-(f2*(xl1-xu1))/(f1-f2)\n",
    "    fc11=funcion2(xl1)\n",
    "    fc22=funcion2(xr1)\n",
    "    if ((fc11*fc22)<0):\n",
    "        xu1=xr1\n",
    "    if((fc11*fc22)>0):\n",
    "        xl1=xr1\n",
    "    k+=1\n",
    "    tab1.append([k,xr1])\n",
    "    if (k==3):\n",
    "        break\n",
    "print tabulate (tab1,headers=[\"Iteracion\", \"Raiz\"],tablefmt='orgtbl')\n",
    "    \n",
    "plt.plot(t,z)\n",
    "plt.grid(True)\n",
    "plt.plot(vv,0, 'cs', label='Raiz Exacta=1.41906')\n",
    "plt.legend(loc = 'upper right', numpoints = 1)\n",
    "plt.xlabel('x')\n",
    "plt.ylabel('f(x)')\n",
    "plt.show()"
   ]
  },
  {
   "cell_type": "code",
   "execution_count": null,
   "metadata": {
    "collapsed": true
   },
   "outputs": [],
   "source": []
  }
 ],
 "metadata": {
  "kernelspec": {
   "display_name": "Python 2",
   "language": "python",
   "name": "python2"
  },
  "language_info": {
   "codemirror_mode": {
    "name": "ipython",
    "version": 2
   },
   "file_extension": ".py",
   "mimetype": "text/x-python",
   "name": "python",
   "nbconvert_exporter": "python",
   "pygments_lexer": "ipython2",
   "version": "2.7.11"
  }
 },
 "nbformat": 4,
 "nbformat_minor": 0
}
