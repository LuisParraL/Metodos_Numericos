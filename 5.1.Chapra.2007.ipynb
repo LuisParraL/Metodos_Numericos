{
 "cells": [
  {
   "cell_type": "code",
   "execution_count": 18,
   "metadata": {
    "collapsed": false
   },
   "outputs": [
    {
     "name": "stdout",
     "output_type": "stream",
     "text": [
      "Raices de la ecuación: -1.40512483795 6.40512483795\n",
      "|   Iteracion |   Raiz |   Error R. Porc. Verd (%) |   Error Aprox.(%) |\n",
      "|-------------+--------+---------------------------+-------------------|\n",
      "|           1 | 7.5    |                  17.0937  |         100       |\n",
      "|           2 | 6.25   |                   2.42189 |          20       |\n",
      "|           3 | 6.875  |                   7.33593 |           9.09091 |\n",
      "|           4 | 6.5625 |                   2.45702 |           4.7619  |\n",
      "Raices de la ecuación: -1.40512483795 6.40512483795\n"
     ]
    }
   ],
   "source": [
    "import math\n",
    "import matplotlib.pyplot as plt\n",
    "from tabulate import tabulate\n",
    "t,z,a,b,c,fc1,fc2,xu,xl,vv,tab=[],[],-0.5,2.5,4.5,1,1,10.0,5.0,6.40512483795,[]\n",
    "for i in range (10):\n",
    "    fx=-0.5*math.pow(i,2)+2.5*math.pow(i,1)+4.5\n",
    "    z.append(fx)\n",
    "    t.append(i)    \n",
    "    \n",
    "def cuadratica ():\n",
    "    x1=((-b+math.sqrt(math.pow(b,2)-(4*a*c)))/(2*a))\n",
    "    x2=((-b-math.sqrt(math.pow(b,2)-(4*a*c)))/(2*a))\n",
    "    print \"Raices de la ecuación: \" +str(x1), str(x2)\n",
    "    return x2\n",
    "cuadratica()\n",
    "\n",
    "def funcion(val):\n",
    "    r=val\n",
    "    fx=-0.5*math.pow(r,2)+2.5*math.pow(r,1)+4.5\n",
    "    return fx\n",
    "\n",
    "i=0\n",
    "xr=0\n",
    "while ((fc1*fc2)!=0):\n",
    "    xra=xr\n",
    "    xr=(xu+xl)/2\n",
    "    fc1=funcion(xl)\n",
    "    fc2=funcion(xr)\n",
    "    if ((fc1*fc2)<0):\n",
    "        xu=xr\n",
    "    if ((fc1*fc2)>0):\n",
    "        xl=xr\n",
    "    i+=1\n",
    "    Et=vv-xr\n",
    "    Erpv=math.fabs((Et/vv)*100)\n",
    "    Ea=math.fabs(((xr-xra)/(xr))*100)\n",
    "    tab.append([i,xr,Erpv,Ea])\n",
    "    if (i==4):\n",
    "        break\n",
    "print tabulate (tab,headers=[\"Iteracion\", \"Raiz\", \"Error R. Porc. Verd (%)\", \"Error Aprox.(%)\"],tablefmt='orgtbl')\n",
    "plt.plot(t,z)\n",
    "plt.plot(cuadratica(),0, 'cs', label='Raiz Exacta=6.40512483795')\n",
    "plt.legend(loc = 'upper right', numpoints = 1)\n",
    "plt.xlabel('x')\n",
    "plt.ylabel('f(x)')\n",
    "plt.grid(True)\n",
    "plt.show()"
   ]
  }
 ],
 "metadata": {
  "kernelspec": {
   "display_name": "Python 2",
   "language": "python",
   "name": "python2"
  },
  "language_info": {
   "codemirror_mode": {
    "name": "ipython",
    "version": 2
   },
   "file_extension": ".py",
   "mimetype": "text/x-python",
   "name": "python",
   "nbconvert_exporter": "python",
   "pygments_lexer": "ipython2",
   "version": "2.7.11"
  }
 },
 "nbformat": 4,
 "nbformat_minor": 0
}
