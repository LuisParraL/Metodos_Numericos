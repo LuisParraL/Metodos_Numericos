{
 "cells": [
  {
   "cell_type": "code",
   "execution_count": 4,
   "metadata": {
    "collapsed": false,
    "scrolled": true
   },
   "outputs": [
    {
     "name": "stdout",
     "output_type": "stream",
     "text": [
      "t(s)          Error verdadero     Error Relativo        Error Aproximado.\n",
      "2          3.19501919713       19.4759093931       38.7589928058\n",
      "4          4.23540750823       15.2521266657       19.6982502203\n",
      "6          4.21379213287       11.8226292145       11.0849351717\n",
      "8          3.72900360674       9.07404284392       6.55565852366\n",
      "10          3.09583104074       6.89907416396       3.98374247475\n",
      "12          2.46902413478       5.19901917735       2.45927664982\n",
      "14          1.91571133219       3.88557858244       1.53260414894\n",
      "16          1.4570335059       2.88184829112       0.960656023333\n",
      "18          1.09158465489       2.12250865299       0.604318077669\n",
      "20          0.808232209999       1.55334701096       0.381011314606\n",
      "22          0.592834952911       1.13030418012       0.240559236617\n",
      "24          0.431527707565       0.818242500237       0.152016767152\n",
      "26          0.312130301066       0.589606909549       0.0961178428417\n",
      "28          0.224575223752       0.423108146012       0.0607953079589\n",
      "30          0.160856820619       0.302512320874       0.0384621139326\n",
      "32          0.114776440196       0.215582105553       0.0243364710815\n",
      "34          0.0816268725969       0.153185240817       0.0154000054723\n",
      "36          0.0578857653584       0.108566324538       0.00974560279542\n",
      "38          0.0409475578077       0.0767663790069       0.00616754147754\n"
     ]
    }
   ],
   "source": [
    "import matplotlib.pyplot as plt\n",
    "import math\n",
    "g=9.8\n",
    "m=68.1\n",
    "c=12.5\n",
    "ti=2\n",
    "t1=0\n",
    "vo=0.0\n",
    "v1=0.0\n",
    "tiempo=[]\n",
    "vel=[]\n",
    "vel1=[]\n",
    "tmp1=[]\n",
    "tmp2=[]\n",
    "tmp3=[]\n",
    "tmp4=[]\n",
    "errorv=[]\n",
    "errorr=[]\n",
    "errora=[]\n",
    "print \"t(s)          Error verdadero     Error Relativo        Error Aproximado.\"\n",
    "et=(0.5*math.pow(10,(-2)))\n",
    "for t in range (40):\n",
    "    t=t*2\n",
    "    tiempo.append(t)\n",
    "    v = ((m*g/c)*(1-math.exp(-(c/m)*t)))\n",
    "    vel.append(v)\n",
    "\n",
    "for t1 in range (40):\n",
    "        if t1==0:\n",
    "            v1=0.0\n",
    "            t1=0\n",
    "            vo=0\n",
    "            vel1.append(v1)\n",
    "        v1 = vo + (g-(c/m)*vo)*(ti-t1)\n",
    "        vel1.append(v1)\n",
    "        tmp1.append(t1)\n",
    "        vo = v1\n",
    "        t1 = ti\n",
    "        ti = ti+1\n",
    "\n",
    "for x in range (0,40):\n",
    "    tmp2.append(x)\n",
    "    vv=math.fabs(vel[x]-vel1[x])\n",
    "    errorv.append(vv)\n",
    "\n",
    "for y in range (1,40):\n",
    "    tmp3.append(y)\n",
    "    vvv=(errorv[y]/vel[y])*100\n",
    "    errorr.append(vvv)\n",
    "\n",
    "\n",
    "for z in range (1,40):\n",
    "    tmp4.append(z)\n",
    "    vvvv=((vel1[z+1]-vel1[(z)])/vel1[z+1])*100\n",
    "    errora.append(vvvv)\n",
    "    if (vvvv<et):\n",
    "        break\n",
    "    print(\"%s          %s       %s       %s\" %(z*2,errorv[z],errorr[z-1],errora[z-1]))\n",
    "\n",
    "plt.title ('Grafica de Errores')\n",
    "plt.plot (tmp3, errorr,label='Error relativo porcentual verdadero')\n",
    "plt.plot (tmp4, errora,label='Error aproximado')\n",
    "plt.xlabel('Tiempo (s)')\n",
    "plt.ylabel('Error')\n",
    "plt.axis([0,28,0,40])\n",
    "plt.grid(True)\n",
    "plt.legend()\n",
    "plt.show()"
   ]
  },
  {
   "cell_type": "code",
   "execution_count": null,
   "metadata": {
    "collapsed": true
   },
   "outputs": [],
   "source": []
  }
 ],
 "metadata": {
  "kernelspec": {
   "display_name": "Python 2",
   "language": "python",
   "name": "python2"
  },
  "language_info": {
   "codemirror_mode": {
    "name": "ipython",
    "version": 2
   },
   "file_extension": ".py",
   "mimetype": "text/x-python",
   "name": "python",
   "nbconvert_exporter": "python",
   "pygments_lexer": "ipython2",
   "version": "2.7.11"
  }
 },
 "nbformat": 4,
 "nbformat_minor": 0
}
