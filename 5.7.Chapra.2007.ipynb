{
 "cells": [
  {
   "cell_type": "code",
   "execution_count": 20,
   "metadata": {
    "collapsed": false
   },
   "outputs": [
    {
     "name": "stdout",
     "output_type": "stream",
     "text": [
      "|   Iteracion |    Raiz |   Error Aprox.(%) |   Error Porc. Verd.(%) |\n",
      "|-------------+---------+-------------------+------------------------|\n",
      "|           1 | 2.875   |         100       |                7.81237 |\n",
      "|           2 | 2.79688 |           2.7933  |                4.88268 |\n",
      "|           3 | 2.74805 |           1.77683 |                3.05163 |\n",
      " \n",
      "La raíz analíticamente es: 2.66666666667\n"
     ]
    }
   ],
   "source": [
    "import math\n",
    "from tabulate import tabulate\n",
    "import matplotlib.pyplot as plt\n",
    "t,z,xl,xu,fc1,fc2,tab,vv=[],[],1.0,3.0,1.0,1.0,[],2.66667\n",
    "for i in range (1,10):\n",
    "    fx=(0.8-0.3*i)/i\n",
    "    z.append(fx)\n",
    "    t.append(i)\n",
    "    \n",
    "def funcion(num):\n",
    "    fx=(0.8-0.3*num)/num\n",
    "    return fx\n",
    "\n",
    "j=0\n",
    "xr=0\n",
    "while (fc1*fc2)!=0:\n",
    "    xra=xr\n",
    "    f2=funcion(xu)\n",
    "    f1=funcion(xl)\n",
    "    xr=xu-(f2*(xl-xu))/(f1-f2)\n",
    "    Et=(vv-xr)\n",
    "    Erpv=math.fabs((Et/vv)*100)\n",
    "    Ea=math.fabs(((xr-xra)/xr)*100)\n",
    "    fc1=funcion(xl)\n",
    "    fc2=funcion(xr)\n",
    "    if ((fc1*fc2)<0):\n",
    "        xu=xr\n",
    "    if((fc1*fc2)>0):\n",
    "        xl=xr\n",
    "    j+=1\n",
    "    tab.append([j,xr,Ea,Erpv])\n",
    "    if (j==3):\n",
    "        break\n",
    "print tabulate (tab,headers=[\"Iteracion\", \"Raiz\", \"Error Aprox.(%)\", \"Error Porc. Verd.(%)\"],tablefmt='orgtbl')\n",
    "print \" \"\n",
    "print \"La raíz analíticamente es: \"+ str(0.8/0.3)\n",
    "    \n",
    "plt.plot(t,z)\n",
    "plt.plot(vv,0, 'cs', label='Raiz Exacta=2.6667')\n",
    "plt.legend(loc = 'upper right', numpoints = 1)\n",
    "plt.xlabel('x')\n",
    "plt.ylabel('f(x)')\n",
    "plt.grid(True)\n",
    "plt.show()"
   ]
  },
  {
   "cell_type": "code",
   "execution_count": null,
   "metadata": {
    "collapsed": true
   },
   "outputs": [],
   "source": []
  }
 ],
 "metadata": {
  "kernelspec": {
   "display_name": "Python 2",
   "language": "python",
   "name": "python2"
  },
  "language_info": {
   "codemirror_mode": {
    "name": "ipython",
    "version": 2
   },
   "file_extension": ".py",
   "mimetype": "text/x-python",
   "name": "python",
   "nbconvert_exporter": "python",
   "pygments_lexer": "ipython2",
   "version": "2.7.11"
  }
 },
 "nbformat": 4,
 "nbformat_minor": 0
}
