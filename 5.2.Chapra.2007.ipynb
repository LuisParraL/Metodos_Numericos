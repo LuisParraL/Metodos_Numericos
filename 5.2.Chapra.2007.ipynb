{
 "cells": [
  {
   "cell_type": "code",
   "execution_count": 20,
   "metadata": {
    "collapsed": false
   },
   "outputs": [
    {
     "name": "stdout",
     "output_type": "stream",
     "text": [
      "|   Iteracion |     Raiz |   Error R. Porc. Verd (%) |   Error Aprox. (%) |\n",
      "|-------------+----------+---------------------------+--------------------|\n",
      "|           1 | 0.5      |                19.5886    |        100         |\n",
      "|           2 | 0.25     |                40.2057    |        100         |\n",
      "|           3 | 0.375    |                10.3085    |         33.3333    |\n",
      "|           4 | 0.4375   |                 4.64004   |         14.2857    |\n",
      "|           5 | 0.40625  |                 2.83425   |          7.69231   |\n",
      "|           6 | 0.421875 |                 0.902894  |          3.7037    |\n",
      "|           7 | 0.414062 |                 0.965678  |          1.88679   |\n",
      "|           8 | 0.417969 |                 0.031392  |          0.934579  |\n",
      "|           9 | 0.419922 |                 0.435751  |          0.465116  |\n",
      "|          10 | 0.418945 |                 0.20218   |          0.2331    |\n",
      "|          11 | 0.418457 |                 0.0853937 |          0.116686  |\n",
      "|          12 | 0.418213 |                 0.0270009 |          0.0583771 |\n"
     ]
    }
   ],
   "source": [
    "import math\n",
    "import matplotlib.pyplot as plt\n",
    "from tabulate import tabulate\n",
    "t,z,fc1,fc2,vv,tab,xu,xl=[],[],1.0,1.0,0.4181,[],1.0,0.0\n",
    "Es=0.1\n",
    "for i in range (4):\n",
    "    fx=5*math.pow(i,3)-5*math.pow(i,2)+6*math.pow(i,1)-2\n",
    "    t.append(i)\n",
    "    z.append(fx)\n",
    "    \n",
    "def funcion (num):\n",
    "    fx=(5*math.pow(num,3)-5*math.pow(num,2)+6*math.pow(num,1)-2)\n",
    "    return fx\n",
    "i=0\n",
    "xr=0\n",
    "while ((fc1*fc2)!=0):\n",
    "    xra=xr\n",
    "    xr=(xu+xl)/2\n",
    "    fc1=funcion(xl)\n",
    "    fc2=funcion(xr)\n",
    "    if ((fc1*fc2)<0):\n",
    "        xu=xr\n",
    "    if ((fc1*fc2)>0):\n",
    "        xl=xr\n",
    "    i+=1\n",
    "    Et=vv-xr\n",
    "    Erpv=math.fabs((Et/vv)*100)\n",
    "    Ea=math.fabs(((xr-xra)/(xr))*100)\n",
    "    tab.append([i,xr,Erpv,Ea])\n",
    "    if (Ea<Es):\n",
    "        break\n",
    "print tabulate (tab,headers=[\"Iteracion\", \"Raiz\", \"Error R. Porc. Verd (%)\", \"Error Aprox. (%)\"],tablefmt='orgtbl')     \n",
    "plt.plot(t,z)\n",
    "plt.xlabel('x')\n",
    "plt.ylabel('f(x)')\n",
    "plt.plot(vv,0, 'cs', label='Raiz Exacta=0.4181')\n",
    "plt.legend(loc = 'upper right', numpoints = 1)\n",
    "plt.grid(True)\n",
    "plt.show()"
   ]
  }
 ],
 "metadata": {
  "kernelspec": {
   "display_name": "Python 2",
   "language": "python",
   "name": "python2"
  },
  "language_info": {
   "codemirror_mode": {
    "name": "ipython",
    "version": 2
   },
   "file_extension": ".py",
   "mimetype": "text/x-python",
   "name": "python",
   "nbconvert_exporter": "python",
   "pygments_lexer": "ipython2",
   "version": "2.7.11"
  }
 },
 "nbformat": 4,
 "nbformat_minor": 0
}
