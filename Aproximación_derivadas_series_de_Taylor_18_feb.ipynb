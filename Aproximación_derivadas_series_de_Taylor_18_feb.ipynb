{
 "cells": [
  {
   "cell_type": "code",
   "execution_count": 41,
   "metadata": {
    "collapsed": false
   },
   "outputs": [
    {
     "name": "stdout",
     "output_type": "stream",
     "text": [
      "|   Orden |   Fxi |     Error V |    Error RPV |   Error Aprox |\n",
      "|---------+-------+-------------+--------------+---------------|\n",
      "|       0 |  1.2  | 1           | 83.3333      |        0      |\n",
      "|       1 |  0.95 | 0.75        | 78.9474      |       26.3158 |\n",
      "|       2 |  0.45 | 0.25        | 55.5556      |      111.111  |\n",
      "|       3 |  0.3  | 0.1         | 33.3333      |       50      |\n",
      "|       4 |  0.2  | 5.55112e-17 |  2.77556e-14 |       50      |\n"
     ]
    }
   ],
   "source": [
    "import math\n",
    "from tabulate import tabulate\n",
    "x=0\n",
    "fx=[]\n",
    "h=1\n",
    "tab=[]\n",
    "arr=[]\n",
    "aux=0\n",
    "vv=0.2\n",
    "i=0\n",
    "fx.append(-0.1*x**4-0.15*x**3-0.5*x**2-0.25*x**1+1.2)\n",
    "fx.append(-0.4*x**3-0.45*x**2-1.0*x**1-0.25)\n",
    "fx.append(-1.2*x**2-0.9*x**1-1.0)\n",
    "fx.append(-2.4*x**1-0.9)\n",
    "fx.append(-2.4)\n",
    "for i in range(5):\n",
    "    fxi=(fx[i]/math.factorial(i))*math.pow(h,i)\n",
    "    aux=aux+fxi\n",
    "    arr.append(aux)\n",
    "    Ev=math.fabs(aux-vv)\n",
    "    Erpv=Ev/aux*100\n",
    "    Ea=math.fabs(((arr[i]-arr[(i-1)])/arr[i])*100)\n",
    "    tab.append([i,aux,Ev,Erpv,Ea])\n",
    "print tabulate(tab,headers=[\"Orden\", \"Fxi\", \"Error V\",\"Error RPV\", \"Error Aprox\" ],tablefmt=\"orgtbl\")"
   ]
  },
  {
   "cell_type": "code",
   "execution_count": null,
   "metadata": {
    "collapsed": true
   },
   "outputs": [],
   "source": []
  },
  {
   "cell_type": "code",
   "execution_count": null,
   "metadata": {
    "collapsed": true
   },
   "outputs": [],
   "source": []
  }
 ],
 "metadata": {
  "kernelspec": {
   "display_name": "Python 2",
   "language": "python",
   "name": "python2"
  },
  "language_info": {
   "codemirror_mode": {
    "name": "ipython",
    "version": 2
   },
   "file_extension": ".py",
   "mimetype": "text/x-python",
   "name": "python",
   "nbconvert_exporter": "python",
   "pygments_lexer": "ipython2",
   "version": "2.7.11"
  }
 },
 "nbformat": 4,
 "nbformat_minor": 0
}
