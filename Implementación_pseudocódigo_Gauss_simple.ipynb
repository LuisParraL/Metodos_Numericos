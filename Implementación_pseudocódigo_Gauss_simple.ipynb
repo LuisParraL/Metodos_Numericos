{
 "cells": [
  {
   "cell_type": "code",
   "execution_count": null,
   "metadata": {
    "collapsed": false
   },
   "outputs": [],
   "source": [
    "m,r,x,d,y,i,j,n,k,h,n = [],[],[],0.0,0.0,0,0,0,0,0,0\n",
    "n = int(raw_input(\"Ingrese el número de incognitas\"))\n",
    "\n",
    "for z in range(0,n):\n",
    "    m.append([0.0]*n)\n",
    "\n",
    "for i in range(0,n):\n",
    "    k=i+1\n",
    "    r.append(float(raw_input(\"Ingrese el elemento %d del vector de soluciones: \"%k)))\n",
    "    x.insert(i,0.0)\n",
    "    for j in range(0,n):\n",
    "        h=j+1\n",
    "        m[i][j] = float(raw_input(\"Ingrese el elemento %d%d de la matriz de coeficientes: \" %(k,h)))\n",
    "        \n",
    "def haciaAdelante():\n",
    "    for i in range(0,n):\n",
    "        for j in range(i,n):\n",
    "            if (i==j):\n",
    "                d=m[i][j]\n",
    "                for s in range (0,n):\n",
    "                    m[i][s]=((m[i][s])/d)\n",
    "                r[i]=((r[i])/d)\n",
    "            else:\n",
    "                d=m[j][i]\n",
    "                for s in range (0,n):\n",
    "                    m[j][s]=m[j][s]-(d*m[i][s])\n",
    "                r[j]=r[j]-(d*r[i])\n",
    "def haciaAtras():\n",
    "    i=n-1\n",
    "    j=n-1\n",
    "    while (i>=0):\n",
    "        y=r[i]\n",
    "        while (j>=i):\n",
    "            y=y-x[j]*m[i][j]\n",
    "            j-=1\n",
    "        x[i]=y\n",
    "        i-=1\n",
    "        j=n-1\n",
    "    for i in range(0,n):\n",
    "        k=i+1\n",
    "        print \"\"\n",
    "        print \"El valor de X%d es %f\"%(k,x[i])\n",
    "haciaAdelante()\n",
    "haciaAtras()"
   ]
  }
 ],
 "metadata": {
  "kernelspec": {
   "display_name": "Python 2",
   "language": "python",
   "name": "python2"
  },
  "language_info": {
   "codemirror_mode": {
    "name": "ipython",
    "version": 2
   },
   "file_extension": ".py",
   "mimetype": "text/x-python",
   "name": "python",
   "nbconvert_exporter": "python",
   "pygments_lexer": "ipython2",
   "version": "2.7.11"
  }
 },
 "nbformat": 4,
 "nbformat_minor": 0
}
