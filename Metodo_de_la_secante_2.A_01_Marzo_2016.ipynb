{
 "cells": [
  {
   "cell_type": "code",
   "execution_count": 6,
   "metadata": {
    "collapsed": false
   },
   "outputs": [
    {
     "name": "stdout",
     "output_type": "stream",
     "text": [
      "|   Iteracion |     Raiz |         Et |\n",
      "|-------------+----------+------------|\n",
      "|           0 | 0.6127   | 8.04088    |\n",
      "|           1 | 0.563838 | 0.575139   |\n",
      "|           2 | 0.56717  | 0.0124067  |\n",
      "|           3 | 0.567143 | 0.0076365  |\n",
      "|           4 | 0.567143 | 0.00763365 |\n",
      "|           5 | 0.567143 | 0.00763365 |\n"
     ]
    }
   ],
   "source": [
    "import math\n",
    "from tabulate import tabulate\n",
    "xmenos1=0.0\n",
    "x0=1.0\n",
    "j=0\n",
    "tab=[]\n",
    "while j<6:\n",
    "    fun=x0-(((math.exp(-x0)-x0)*(xmenos1-x0)))/((math.exp(-xmenos1)-xmenos1)-(math.exp(-x0)-x0))\n",
    "    xmenos1=x0\n",
    "    x0=fun\n",
    "    Erpv=math.fabs(((0.5671-fun)/0.5671)*100)\n",
    "    tab.append([j,fun,Erpv])\n",
    "    j+=1\n",
    "print tabulate (tab,headers=[\"Iteracion\", \"Raiz\", \"Et\"],tablefmt='orgtbl')"
   ]
  }
 ],
 "metadata": {
  "kernelspec": {
   "display_name": "Python 2",
   "language": "python",
   "name": "python2"
  },
  "language_info": {
   "codemirror_mode": {
    "name": "ipython",
    "version": 2
   },
   "file_extension": ".py",
   "mimetype": "text/x-python",
   "name": "python",
   "nbconvert_exporter": "python",
   "pygments_lexer": "ipython2",
   "version": "2.7.11"
  }
 },
 "nbformat": 4,
 "nbformat_minor": 0
}
