{
 "cells": [
  {
   "cell_type": "code",
   "execution_count": 8,
   "metadata": {
    "collapsed": false
   },
   "outputs": [
    {
     "name": "stdout",
     "output_type": "stream",
     "text": [
      "|   Iteracion |    Raiz |      F(c) |    Condicion |   xl |      xu |\n",
      "|-------------+---------+-----------+--------------+------+---------|\n",
      "|           1 | 14.9113 | 51.1443   | -1.54269     |   12 | 14.9113 |\n",
      "|           2 | 14.7942 | 44.9205   | -0.165368    |   12 | 14.7942 |\n",
      "|           3 | 14.7817 | 39.2634   | -0.0176402   |   12 | 14.7817 |\n",
      "|           4 | 14.7804 | 34.1148   | -0.00188074  |   12 | 14.7804 |\n",
      "|           5 | 14.7802 | 29.4232   | -0.000200507 |   12 | 14.7802 |\n",
      "|           6 | 14.7802 | 25.1424   | -2.13761e-05 |   12 | 14.7802 |\n",
      "|           7 | 14.7802 | 21.2314   | -2.27891e-06 |   12 | 14.7802 |\n",
      "|           8 | 14.7802 | 17.6534   | -2.42955e-07 |   12 | 14.7802 |\n",
      "|           9 | 14.7802 | 14.3758   | -2.59015e-08 |   12 | 14.7802 |\n",
      "|          10 | 14.7802 | 11.3691   | -2.76138e-09 |   12 | 14.7802 |\n",
      "|          11 | 14.7802 |  8.60731  | -2.94386e-10 |   12 | 14.7802 |\n",
      "|          12 | 14.7802 |  6.06694  | -3.13827e-11 |   12 | 14.7802 |\n",
      "|          13 | 14.7802 |  3.727    | -3.36244e-12 |   12 | 14.7802 |\n",
      "|          14 | 14.7802 |  1.5687   | -3.44865e-13 |   12 | 14.7802 |\n",
      "|          15 | 14.7802 | -0.424841 | -4.31082e-14 |   12 | 14.7802 |\n",
      "|          16 | 14.7802 | -2.26876  |  0           |   12 | 14.7802 |\n"
     ]
    }
   ],
   "source": [
    "import math\n",
    "from tabulate import tabulate\n",
    "xl, xu, fc1,fc2,fcx,tab,t,a=12.0,16.0, 1,1,[],[],[],[]\n",
    "m=68.1\n",
    "g=9.8\n",
    "v=40\n",
    "for i in range (1,20):\n",
    "    fc=((g*m)/i)*(1-math.exp(-(i/68.1)*10.0))-v\n",
    "    t.append(i)\n",
    "    fcx.append(fc)\n",
    "def funcion(num):\n",
    "    fc=((g*m)/num)*(1-math.exp(-(num/68.1)*10.0))-v\n",
    "    return fc\n",
    "i=0\n",
    "while (fc1*fc2)!=0:\n",
    "    xr=xu-((funcion(xu)*(xl-xu))/(funcion(xl)-(funcion(xu))))\n",
    "    a.append(xr)\n",
    "    fc1=funcion(xl)\n",
    "    fc2=funcion(xr)\n",
    "    if (fc1*fc2)<0:\n",
    "        xu=xr\n",
    "    if (fc1*fc2)>0:\n",
    "        xl=xr\n",
    "    i+=1\n",
    "    tab.append([i,xr,funcion(i), fc1*fc2, xl,xu])\n",
    "print tabulate (tab, headers=[\"Iteracion\", \"Raiz\", \"F(c)\", \"Condicion\", \"xl\",\"xu\"],tablefmt='orgtbl')\n"
   ]
  }
 ],
 "metadata": {
  "kernelspec": {
   "display_name": "Python 2",
   "language": "python",
   "name": "python2"
  },
  "language_info": {
   "codemirror_mode": {
    "name": "ipython",
    "version": 2
   },
   "file_extension": ".py",
   "mimetype": "text/x-python",
   "name": "python",
   "nbconvert_exporter": "python",
   "pygments_lexer": "ipython2",
   "version": "2.7.11"
  }
 },
 "nbformat": 4,
 "nbformat_minor": 0
}
