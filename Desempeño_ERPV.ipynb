{
 "cells": [
  {
   "cell_type": "code",
   "execution_count": 1,
   "metadata": {
    "collapsed": false,
    "scrolled": true
   },
   "outputs": [
    {
     "name": "stdout",
     "output_type": "stream",
     "text": [
      "|   Iter |   Diferencia |\n",
      "|--------+--------------|\n",
      "|      0 |  0.911303    |\n",
      "|      1 |  0.205807    |\n",
      "|      2 |  0.281695    |\n",
      "|      3 |  0.0303628   |\n",
      "|      4 |  0.0947792   |\n",
      "|      5 |  0.0322944   |\n",
      "|      6 |  0.00104598  |\n",
      "|      7 |  0.0145789   |\n",
      "|      8 |  0.00676633  |\n",
      "|      9 |  0.00286008  |\n",
      "|     10 |  0.000906957 |\n",
      "|     11 |  6.96058e-05 |\n",
      "|     12 |  0.000418675 |\n",
      "|     13 |  0.000174535 |\n",
      "|     14 |  5.24645e-05 |\n",
      "|     15 |  8.57068e-06 |\n"
     ]
    }
   ],
   "source": [
    "import math\n",
    "from tabulate import tabulate\n",
    "import matplotlib.pyplot as plt\n",
    "xl, xu, fc1,fc2,fcx,tab, xra, xrb, fc11,fc22,xl1,xu1,t,f,vv,aux,aux1,aux2=12.0,16.0, 1,1,[],[],[],[],1,1,12.0,16.0,[],[],14.7802,[],[],[]\n",
    "aux3=[]\n",
    "v=40\n",
    "m=68.1\n",
    "g=9.8\n",
    "\n",
    "for l in range (16):\n",
    "    t.append(l)\n",
    "    \n",
    "def funcion(num):\n",
    "    fc=((g*m)/num)*(1-math.exp(-(num/68.1)*10.0))-v\n",
    "    return fc\n",
    "i=0\n",
    "while ((fc1*fc2)!=0):\n",
    "    xr=xu-((funcion(xu)*(xl-xu))/(funcion(xl)-(funcion(xu))))\n",
    "    xra.append(xr)\n",
    "    Ev=vv-xr\n",
    "    Erpv=math.fabs((Ev/vv)*100)\n",
    "    aux.append(Erpv)\n",
    "    fc1=funcion(xl)\n",
    "    fc2=funcion(xr)\n",
    "    if (fc1*fc2)<0:\n",
    "        xu=xr\n",
    "    if (fc1*fc2)>0:\n",
    "        xl=xr\n",
    "    i+=1\n",
    "    \n",
    "def funcion2(num):\n",
    "    fc1=((g*m)/num)*(1-math.exp(-(num/68.1)*10.0))-v\n",
    "    return fc1\n",
    "j=0\n",
    "while ((fc11*fc22)!=0):\n",
    "    xr1=(xl1+xu1)/2\n",
    "    xrb.append(xr1)\n",
    "    Ev1=vv-xr1\n",
    "    Erpv1=math.fabs((Ev1/vv)*100)\n",
    "    aux1.append(Erpv1)\n",
    "    fc11=funcion2(xl1)\n",
    "    fc22=funcion2(xr1)\n",
    "    if ((fc11*fc22)<0):\n",
    "        xu1=xr1\n",
    "    if((fc11*fc22)>0):\n",
    "        xl1=xr1\n",
    "    c=j*1\n",
    "    j+=1\n",
    "\n",
    "for k in range (0,len(aux)):\n",
    "    r=math.fabs(xra[k]-xrb[k])\n",
    "    tab.append([k,r])\n",
    "    aux2.append(aux1[k])\n",
    "\n",
    "print tabulate (tab,headers=[\"Iter\", \"Diferencia\"], tablefmt='orgtbl')\n",
    "plt.plot (t, aux,label='Error relativo metodo falsa posicion')\n",
    "plt.plot (t, aux2,label='Error relativo metodo biseccion')\n",
    "plt.grid(True)\n",
    "plt.xlabel('Iteracion')\n",
    "plt.ylabel('Erpv')\n",
    "plt.legend()\n",
    "plt.show()"
   ]
  }
 ],
 "metadata": {
  "kernelspec": {
   "display_name": "Python 2",
   "language": "python",
   "name": "python2"
  },
  "language_info": {
   "codemirror_mode": {
    "name": "ipython",
    "version": 2
   },
   "file_extension": ".py",
   "mimetype": "text/x-python",
   "name": "python",
   "nbconvert_exporter": "python",
   "pygments_lexer": "ipython2",
   "version": "2.7.11"
  }
 },
 "nbformat": 4,
 "nbformat_minor": 0
}
