{
 "cells": [
  {
   "cell_type": "code",
   "execution_count": 4,
   "metadata": {
    "collapsed": false,
    "scrolled": true
   },
   "outputs": [
    {
     "name": "stdout",
     "output_type": "stream",
     "text": [
      "|   Term. |   Valor Aprox |   Error Rela. |   Error Aprox. |   Term. |   Valor Aprox |   Error Rela |   Error Aprox |\n",
      "|---------+---------------+---------------+----------------+---------+---------------+--------------+---------------|\n",
      "|       1 |    1          |     99.3262   |      100       |       1 |    1          | 99.3262      | 100           |\n",
      "|       2 |   -4          |    100.168    |      125       |       2 |    0.166667   | 95.9572      | 500           |\n",
      "|       3 |    8.5        |     99.9207   |      147.059   |       3 |    0.0540541  | 87.5348      | 208.333       |\n",
      "|       4 |  -12.3333     |    100.055    |      168.919   |       4 |    0.0254237  | 73.4974      | 112.613       |\n",
      "|       5 |   13.7083     |     99.9508   |      189.97    |       5 |    0.0152964  | 55.9507      |  66.2076      |\n",
      "|       6 |  -12.3333     |    100.055    |      211.149   |       6 |    0.0109389  | 38.4039      |  39.8343      |\n",
      "|       7 |    9.36806    |     99.9281   |      231.653   |       7 |    0.00884032 | 23.7817      |  23.739       |\n",
      "|       8 |   -6.13294    |    100.11     |      252.75    |       8 |    0.0077749  | 13.3372      |  13.7034      |\n",
      "|       9 |    3.55518    |     99.8105   |      272.507   |       9 |    0.00723028 |  6.80936     |   7.53241     |\n",
      "|      10 |   -1.82711    |    100.369    |      294.58    |      10 |    0.00695945 |  3.18281     |   3.89155     |\n",
      "|      11 |    0.864039   |     99.2202   |      311.461   |      11 |    0.00683151 |  1.36953     |   1.87289     |\n",
      "|      12 |   -0.359208   |    101.876    |      340.54    |      12 |    0.00677489 |  0.545309    |   0.835662    |\n",
      "|      13 |    0.150478   |     95.5223   |      338.712   |      13 |    0.00675158 |  0.201885    |   0.345307    |\n",
      "|      14 |   -0.0455552  |    114.791    |      430.32    |      14 |    0.00674265 |  0.069799    |   0.132353    |\n",
      "|      15 |    0.0244567  |     72.4495   |      286.269   |      15 |    0.00673947 |  0.0226254   |   0.0472066   |\n",
      "|      16 |    0.00111938 |    501.936    |     2084.84    |      16 |    0.00673841 |  0.00690082  |   0.0157281   |\n",
      "|      17 |    0.00841228 |     19.9035   |       86.6935  |      17 |    0.00673808 |  0.0019869   |   0.00491426  |\n",
      "|      18 |    0.00626731 |      7.50936  |       34.2247  |      18 |    0.00673798 |  0.000541634 |   0.0014453   |\n",
      "|      19 |    0.00686314 |      1.8241   |        8.68153 |      19 |    0.00673796 |  0.00014017  |   0.000401466 |\n",
      "|      20 |    0.00670634 |      0.471284 |        2.33803 |      20 |    0.00673795 |  3.45214e-05 |   0.000105649 |\n"
     ]
    }
   ],
   "source": [
    "import math\n",
    "from tabulate import tabulate\n",
    "x=-5\n",
    "y=5\n",
    "ValorV=math.exp(x)\n",
    "ValorV1=1/math.exp(y)\n",
    "actual=0\n",
    "actual1=0\n",
    "actual2=0\n",
    "tab=[]\n",
    "for i in range (20):\n",
    "    e=(math.pow(x,i))/math.factorial(i)\n",
    "    c=((math.pow(y,i))/math.factorial(i))\n",
    "    anterior1=actual2\n",
    "    actual1=(c+actual1)\n",
    "    actual2=1/actual1 \n",
    "    anterior=actual\n",
    "    actual=(e+actual)\n",
    "    Ev=(ValorV-actual)\n",
    "    Ev1=(ValorV1-actual2)\n",
    "    Erpv=math.fabs((Ev/actual)*100)\n",
    "    Erpv1=math.fabs((Ev1/actual2)*100)\n",
    "    Ea=math.fabs(((actual-anterior)/actual)*100)\n",
    "    Ea1=math.fabs(((actual2-anterior1)/actual2)*100)\n",
    "    tab.append([i+1, actual, Erpv, Ea , i+1, actual2, Erpv1, Ea1])\n",
    "    i+=1\n",
    "    \n",
    "print tabulate(tab,headers=[\"Term.\", \"Valor Aprox\", \"Error Rela.\", \"Error Aprox.\", \"Term.\",  \"Valor Aprox\", \"Error Rela\", \"Error Aprox\"], tablefmt=\"orgtbl\")"
   ]
  },
  {
   "cell_type": "code",
   "execution_count": null,
   "metadata": {
    "collapsed": true
   },
   "outputs": [],
   "source": []
  }
 ],
 "metadata": {
  "kernelspec": {
   "display_name": "Python 2",
   "language": "python",
   "name": "python2"
  },
  "language_info": {
   "codemirror_mode": {
    "name": "ipython",
    "version": 2
   },
   "file_extension": ".py",
   "mimetype": "text/x-python",
   "name": "python",
   "nbconvert_exporter": "python",
   "pygments_lexer": "ipython2",
   "version": "2.7.11"
  }
 },
 "nbformat": 4,
 "nbformat_minor": 0
}
