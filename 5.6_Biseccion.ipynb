{
 "cells": [
  {
   "cell_type": "code",
   "execution_count": 21,
   "metadata": {
    "collapsed": false
   },
   "outputs": [
    {
     "name": "stdout",
     "output_type": "stream",
     "text": [
      "|   Iteracion |     Raiz |       xl |      xu |    Condicion |            Ea |\n",
      "|-------------+----------+----------+---------+--------------+---------------|\n",
      "|           1 | 0.65     | 0.65     | 1.3     |  0.986537    | 100           |\n",
      "|           2 | 0.975    | 0.975    | 1.3     |  0.220659    |  33.3333      |\n",
      "|           3 | 1.1375   | 0.975    | 1.1375  | -0.58752     |  14.2857      |\n",
      "|           4 | 1.05625  | 0.975    | 1.05625 | -0.162942    |   7.69231     |\n",
      "|           5 | 1.01562  | 0.975    | 1.01562 | -0.0375111   |   4           |\n",
      "|           6 | 0.995313 | 0.995313 | 1.01562 |  0.0102661   |   2.04082     |\n",
      "|           7 | 1.00547  | 0.995313 | 1.00547 | -0.00257275  |   1.0101      |\n",
      "|           8 | 1.00039  | 0.995313 | 1.00039 | -0.000179606 |   0.507614    |\n",
      "|           9 | 0.997852 | 0.997852 | 1.00039 |  0.000976621 |   0.254453    |\n",
      "|          10 | 0.999121 | 0.999121 | 1.00039 |  0.000186274 |   0.127065    |\n",
      "|          11 | 0.999756 | 0.999756 | 1.00039 |  2.13495e-05 |   0.0634921   |\n",
      "|          12 | 1.00007  | 0.999756 | 1.00007 | -1.78676e-06 |   0.031736    |\n",
      "|          13 | 0.999915 | 0.999915 | 1.00007 |  2.08307e-06 |   0.0158705   |\n",
      "|          14 | 0.999994 | 0.999994 | 1.00007 |  5.21326e-08 |   0.00793462  |\n",
      "|          15 | 1.00003  | 0.999994 | 1.00003 | -2.04916e-08 |   0.00396715  |\n",
      "|          16 | 1.00001  | 0.999994 | 1.00001 | -8.38219e-09 |   0.00198362  |\n",
      "|          17 | 1        | 0.999994 | 1       | -2.32828e-09 |   0.000991818 |\n",
      "|          18 | 0.999999 | 0.999999 | 1       |  6.98469e-10 |   0.000495911 |\n",
      "|          19 | 1        | 0.999999 | 1       | -1.52795e-10 |   0.000247955 |\n"
     ]
    }
   ],
   "source": [
    "import math\n",
    "from tabulate import tabulate\n",
    "fc1,fc2,xu,xl,tab=1.0,1.0,1.3,0,[]\n",
    "xr=0\n",
    "def funcion(num):\n",
    "    fx=math.pow(num,10)-1\n",
    "    return fx\n",
    "i=0\n",
    "while ((fc1*fc2)!=0):\n",
    "    xra=xr\n",
    "    xr=(xl+xu)/2\n",
    "    fc1=funcion(xl)\n",
    "    fc2=funcion(xr)\n",
    "    Ea=math.fabs(((xr-xra)/xr)*100)\n",
    "    if ((fc1*fc2)<0):\n",
    "        xu=xr\n",
    "    if((fc1*fc2)>0):\n",
    "        xl=xr\n",
    "    i+=1\n",
    "    if (i==20):\n",
    "        break\n",
    "    tab.append([i,xr,xl,xu,fc1*fc2,Ea])\n",
    "print tabulate (tab,headers=[\"Iteracion\", \"Raiz\",\"xl\",\"xu\", \"Condicion\", \"Ea\"],tablefmt='orgtbl')"
   ]
  },
  {
   "cell_type": "code",
   "execution_count": null,
   "metadata": {
    "collapsed": true
   },
   "outputs": [],
   "source": []
  }
 ],
 "metadata": {
  "kernelspec": {
   "display_name": "Python 2",
   "language": "python",
   "name": "python2"
  },
  "language_info": {
   "codemirror_mode": {
    "name": "ipython",
    "version": 2
   },
   "file_extension": ".py",
   "mimetype": "text/x-python",
   "name": "python",
   "nbconvert_exporter": "python",
   "pygments_lexer": "ipython2",
   "version": "2.7.11"
  }
 },
 "nbformat": 4,
 "nbformat_minor": 0
}
