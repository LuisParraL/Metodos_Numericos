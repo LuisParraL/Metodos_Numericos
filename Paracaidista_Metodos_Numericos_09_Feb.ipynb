{
 "cells": [
  {
   "cell_type": "code",
   "execution_count": 7,
   "metadata": {
    "collapsed": false
   },
   "outputs": [],
   "source": [
    "import matplotlib.pyplot as plt\n",
    "import math\n",
    "g=9.8\n",
    "m=68.1\n",
    "c=12.5\n",
    "ti=2\n",
    "t1=0\n",
    "vo=0.0\n",
    "v1=0.0\n",
    "tiempo=[]\n",
    "vel=[]\n",
    "tiempo1=[]\n",
    "vel1=[]\n",
    "\n",
    "for t in range (0,151):\n",
    "    tiempo.append(t)\n",
    "    v = ((m*g/c)*(1-math.exp(-(c/m)*t)))\n",
    "    vel.append(v)\n",
    "\n",
    "\n",
    "while t1<150:\n",
    "    v1 = vo + (g-(c/m)*vo)*(ti-t1)\n",
    "    vel1.append(v1)\n",
    "    tiempo1.append(t1)\n",
    "    t1 = ti\n",
    "    ti = ti+2\n",
    "    vo = v1\n",
    "    \n",
    "  \n",
    "plt.plot(tiempo1,vel1,'ro')\n",
    "plt.plot(tiempo,vel)\n",
    "plt.ylabel('Velocidad (m/s)')\n",
    "plt.xlabel('Tiempo (s)')\n",
    "plt.grid(True)\n",
    "plt.axis([0,40,0,61])\n",
    "plt.show()  "
   ]
  },
  {
   "cell_type": "code",
   "execution_count": null,
   "metadata": {
    "collapsed": true
   },
   "outputs": [],
   "source": []
  },
  {
   "cell_type": "code",
   "execution_count": null,
   "metadata": {
    "collapsed": true
   },
   "outputs": [],
   "source": []
  }
 ],
 "metadata": {
  "kernelspec": {
   "display_name": "Python 2",
   "language": "python",
   "name": "python2"
  },
  "language_info": {
   "codemirror_mode": {
    "name": "ipython",
    "version": 2
   },
   "file_extension": ".py",
   "mimetype": "text/x-python",
   "name": "python",
   "nbconvert_exporter": "python",
   "pygments_lexer": "ipython2",
   "version": "2.7.11"
  }
 },
 "nbformat": 4,
 "nbformat_minor": 0
}
