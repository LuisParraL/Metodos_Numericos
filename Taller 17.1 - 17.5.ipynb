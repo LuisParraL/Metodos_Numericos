{
 "cells": [
  {
   "cell_type": "code",
   "execution_count": 1,
   "metadata": {
    "collapsed": false,
    "scrolled": true
   },
   "outputs": [
    {
     "name": "stdout",
     "output_type": "stream",
     "text": [
      "a) \n",
      "Media igual a :  9.652\n",
      "b) \n",
      "Desviación estándar igual a :  0.703041013503\n",
      "c) \n",
      "Varianza igual a :  0.494266666667\n",
      "d) \n",
      "Coeficiente de variación igual a :  0.0728388948925\n",
      "e) \n",
      "intervalo de confianza :  9.36178466963 <= u <=  9.94221533037\n"
     ]
    },
    {
     "data": {
      "image/png": "[encoded data removed]",
      "text/plain": [
       "<matplotlib.figure.Figure at 0x396a8d0>"
      ]
     },
     "metadata": {},
     "output_type": "display_data"
    }
   ],
   "source": [
    "#17.1 y 17.2\n",
    "import math\n",
    "from matplotlib.pylab import hist,show\n",
    "import matplotlib.pyplot as plt\n",
    "%matplotlib inline\n",
    "d=[8.8, 9.5, 9.8, 9.4, 10.0,9.4, 10.1, 9.2, 11.3, 9.4, 10.0, 10.4, 7.9, 10.4, 9.8, 9.8, 9.5, 8.9, 8.8, 10.6, 10.1, 9.5, 9.6, 10.2, 8.9]\n",
    "\n",
    "def suma ():\n",
    "    suma=0;\n",
    "    for i in range(len(d)):\n",
    "        suma+=d[i]\n",
    "    return suma\n",
    "\n",
    "media=suma()/len(d)\n",
    "print \"a) \"\n",
    "print \"Media igual a : \",media\n",
    "\n",
    "def st ():\n",
    "    res=0\n",
    "    for j in range (len(d)):\n",
    "        res+=(d[j]-media)**2\n",
    "    return res\n",
    "\n",
    "st=st()\n",
    "varianza=st/(len(d)-1)\n",
    "desvest=math.sqrt(varianza)\n",
    "coevar=(desvest/media)\n",
    "t1=2.064\n",
    "L=media-((desvest/(math.sqrt(len(d))))*t1)\n",
    "U=media+((desvest/(math.sqrt(len(d))))*t1)\n",
    "\n",
    "print \"b) \"\n",
    "print \"Desviación estándar igual a : \",desvest\n",
    "print \"c) \"\n",
    "print \"Varianza igual a : \", varianza\n",
    "print \"d) \"\n",
    "print \"Coeficiente de variación igual a : \", coevar\n",
    "print \"e) \"\n",
    "print \"intervalo de confianza : \", L , \"<= u <= \", U\n",
    "hist(d)\n",
    "plt.title('Histograma')\n",
    "show()"
   ]
  },
  {
   "cell_type": "code",
   "execution_count": 2,
   "metadata": {
    "collapsed": false
   },
   "outputs": [
    {
     "name": "stdout",
     "output_type": "stream",
     "text": [
      "a) \n",
      "Media igual a :  28.0035714286\n",
      "b) \n",
      "Desviación estándar igual a :  1.09729706395\n",
      "c) \n",
      "Varianza igual a :  1.20406084656\n",
      "d) \n",
      "Coeficiente de variación igual a :  0.039184182873\n",
      "e) \n",
      "intervalo de confianza :  27.6504209091 <= u <=  28.3567219481\n",
      "g) \n",
      "El rango que agrupa el 68% de los datos es :  26.9062743646  y  29.1008684925\n"
     ]
    },
    {
     "data": {
      "image/png": "[encoded data removed]",
      "text/plain": [
       "<matplotlib.figure.Figure at 0x3955eb8>"
      ]
     },
     "metadata": {},
     "output_type": "display_data"
    }
   ],
   "source": [
    "#17.3\n",
    "d=[28.65, 26.55, 26.65, 27.65, 27.35, 28.35, 26.85, 28.65, 29.65, 27.85, 27.05, 28.25, 28.35, 26.75, \n",
    "   27.65, 28.45, 28.65, 28.45, 31.65, 26.35, 27.75, 29.25, 27.65, 28.65, 27.65, 28.55, 27.55, 27.25]\n",
    "from matplotlib.pylab import hist,show\n",
    "import matplotlib.pyplot as plt\n",
    "%matplotlib inline\n",
    "def suma ():\n",
    "    suma=0;\n",
    "    for i in range(len(d)):\n",
    "        suma+=d[i]\n",
    "    return suma\n",
    "\n",
    "media=suma()/len(d)\n",
    "print \"a) \"\n",
    "print \"Media igual a : \",media\n",
    "\n",
    "def st ():\n",
    "    res=0\n",
    "    for j in range (len(d)):\n",
    "        res+=(d[j]-media)**2\n",
    "    return res\n",
    "\n",
    "st=st()\n",
    "varianza=st/(len(d)-1)\n",
    "desvest=math.sqrt(varianza)\n",
    "coevar=(desvest/media)\n",
    "\n",
    "t1=1.703\n",
    "L=media-((desvest/(math.sqrt(len(d))))*t1)\n",
    "U=media+((desvest/(math.sqrt(len(d))))*t1)\n",
    "\n",
    "print \"b) \"\n",
    "print \"Desviación estándar igual a : \",desvest\n",
    "print \"c) \"\n",
    "print \"Varianza igual a : \", varianza\n",
    "print \"d) \"\n",
    "print \"Coeficiente de variación igual a : \", coevar\n",
    "print \"e) \"\n",
    "print \"intervalo de confianza : \", L , \"<= u <= \", U\n",
    "print \"g) \"\n",
    "print \"El rango que agrupa el 68% de los datos es : \", (media-desvest), \" y \", (media+desvest)\n",
    "hist(d, bins=12)\n",
    "plt.title('Histograma')\n",
    "show()"
   ]
  },
  {
   "cell_type": "code",
   "execution_count": 3,
   "metadata": {
    "collapsed": false
   },
   "outputs": [
    {
     "name": "stdout",
     "output_type": "stream",
     "text": [
      "Error estándar de la estimación igual a :  1.0650096999\n",
      "Coeficiente de correlación igual a :  0.914767284879\n"
     ]
    },
    {
     "data": {
      "image/png": "[encoded data removed]",
      "text/plain": [
       "<matplotlib.figure.Figure at 0x74882b0>"
      ]
     },
     "metadata": {},
     "output_type": "display_data"
    }
   ],
   "source": [
    "#17.4\n",
    "import matplotlib.pyplot as plt\n",
    "import math\n",
    "xi=[0.0, 2.0, 4.0, 6.0, 9.0, 11.0, 12.0, 15.0, 17.0, 19.0]\n",
    "yi=[5.0, 6.0, 7.0, 6.0, 9.0, 8.0, 7.0, 10.0, 12.0, 12.0]\n",
    "%matplotlib inline\n",
    "n=len(xi)\n",
    "mult, sum1,sumax,sumay,t,z=0,0,0,0,[],[]\n",
    "\n",
    "for i in range (n):\n",
    "    sumax+=xi[i]\n",
    "    sumay+=yi[i]\n",
    "    mult+=xi[i]*yi[i]\n",
    "    sum1+=xi[i]**2\n",
    "\n",
    "expo=sumax**2\n",
    "a1=(n*mult-(sumax*sumay))/(n*sum1-expo)\n",
    "xmedia=sumax/n\n",
    "ymedia=sumay/n\n",
    "a0=ymedia-(a1*xmedia)\n",
    "\n",
    "for j in range (n+11):\n",
    "    y=a0+a1*j\n",
    "    t.append(j)\n",
    "    z.append(y)\n",
    "sr=0\n",
    "for k in range (n):\n",
    "    sr+=(yi[k]-a0-a1*xi[k])**2\n",
    "\n",
    "sxy=math.sqrt(sr/(len(xi)-2))\n",
    "print \"Error estándar de la estimación igual a : \", sxy\n",
    "\n",
    "def suma (a):\n",
    "    s=0\n",
    "    for i in range(n):\n",
    "        s+=a[i]\n",
    "    return s\n",
    "def mul (a,b):\n",
    "    r=0\n",
    "    for j in range (n):\n",
    "        r+=a[j]*b[j]\n",
    "    return r\n",
    "\n",
    "num=(n*(mul(xi,yi))-(suma(xi)*suma(yi)))\n",
    "den=(math.sqrt(n*mul(xi, xi)-suma(xi)**2)*math.sqrt(n*mul(yi, yi)-suma(yi)**2))\n",
    "res=(num)/(den)\n",
    "print \"Coeficiente de correlación igual a : \",res\n",
    "plt.plot(t,z, label='recta y=a0+a1*x')\n",
    "plt.plot(xi,yi, 'ro', label='xi,yi')\n",
    "plt.xlabel('(x)')\n",
    "plt.ylabel('f(x)')\n",
    "plt.legend(loc='upper left', numpoints=1)\n",
    "plt.grid()\n",
    "plt.show()"
   ]
  },
  {
   "cell_type": "code",
   "execution_count": 4,
   "metadata": {
    "collapsed": false
   },
   "outputs": [
    {
     "name": "stdout",
     "output_type": "stream",
     "text": [
      "Error estándar de la estimación igual a :  2.76402571072\n",
      "Coeficiente de correlación igual a :  0.914767284879\n"
     ]
    },
    {
     "data": {
      "image/png": "[encoded data removed]",
      "text/plain": [
       "<matplotlib.figure.Figure at 0x72e1438>"
      ]
     },
     "metadata": {},
     "output_type": "display_data"
    },
    {
     "name": "stdout",
     "output_type": "stream",
     "text": [
      "El coeficiente de correlación es el mismo en ambos casos, porque así se cambien su relación sigue siendo directamente proporcional. En el primer caso los datos están menos dispersos comparado con el segundo caso, esto se puede validar comparando el error estándar de cada uno.\n"
     ]
    }
   ],
   "source": [
    "#17.4 intercambiando vectores\n",
    "import matplotlib.pyplot as plt\n",
    "import math\n",
    "xi=[5.0, 6.0, 7.0, 6.0, 9.0, 8.0, 7.0, 10.0, 12.0, 12.0]\n",
    "yi=[0.0, 2.0, 4.0, 6.0, 9.0, 11.0, 12.0, 15.0, 17.0, 19.0]\n",
    "%matplotlib inline\n",
    "n=len(xi)\n",
    "mult, sum1,sumax,sumay,t,z=0,0,0,0,[],[]\n",
    "\n",
    "for i in range (n):\n",
    "    sumax+=xi[i]\n",
    "    sumay+=yi[i]\n",
    "    mult+=xi[i]*yi[i]\n",
    "    sum1+=xi[i]**2\n",
    "\n",
    "expo=sumax**2\n",
    "a1=(n*mult-(sumax*sumay))/(n*sum1-expo)\n",
    "xmedia=sumax/n\n",
    "ymedia=sumay/n\n",
    "a0=ymedia-(a1*xmedia)\n",
    "\n",
    "for j in range (n+5):\n",
    "    y=a0+a1*j\n",
    "    t.append(j)\n",
    "    z.append(y)\n",
    "sr=0\n",
    "for k in range (n):\n",
    "    sr+=(yi[k]-a0-a1*xi[k])**2\n",
    "\n",
    "sxy=math.sqrt(sr/(len(xi)-2))\n",
    "print \"Error estándar de la estimación igual a : \", sxy\n",
    "\n",
    "def suma (a):\n",
    "    s=0\n",
    "    for i in range(n):\n",
    "        s+=a[i]\n",
    "    return s\n",
    "def mul (a,b):\n",
    "    r=0\n",
    "    for j in range (n):\n",
    "        r+=a[j]*b[j]\n",
    "    return r\n",
    "\n",
    "num=(n*(mul(xi,yi))-(suma(xi)*suma(yi)))\n",
    "den=(math.sqrt(n*mul(xi, xi)-suma(xi)**2)*math.sqrt(n*mul(yi, yi)-suma(yi)**2))\n",
    "res=(num)/(den)\n",
    "print \"Coeficiente de correlación igual a : \",res\n",
    "plt.plot(t,z, label='recta y=a0+a1*x')\n",
    "plt.plot(xi,yi, 'ro', label='xi,yi')\n",
    "plt.xlabel('(x)')\n",
    "plt.ylabel('f(x)')\n",
    "plt.legend(loc='upper left', numpoints=1)\n",
    "plt.grid()\n",
    "plt.show()\n",
    "print \"El coeficiente de correlación es el mismo en ambos casos, porque así se cambien su relación sigue siendo directamente \\\n",
    "proporcional. En el primer caso los datos están menos dispersos comparado con el segundo caso, esto se puede validar comparando\\\n",
    " el error estándar de cada uno.\""
   ]
  },
  {
   "cell_type": "code",
   "execution_count": 5,
   "metadata": {
    "collapsed": false
   },
   "outputs": [
    {
     "name": "stdout",
     "output_type": "stream",
     "text": [
      "Error estándar de la estimación igual a :  5.19615242271\n",
      "Coeficiente de correlación igual a :  -0.901488948765\n"
     ]
    },
    {
     "data": {
      "image/png": "[encoded data removed]",
      "text/plain": [
       "<matplotlib.figure.Figure at 0x75d0f60>"
      ]
     },
     "metadata": {},
     "output_type": "display_data"
    }
   ],
   "source": [
    "#17.5\n",
    "\n",
    "import matplotlib.pyplot as plt\n",
    "import math\n",
    "%matplotlib inline\n",
    "xi=[6, 7, 11, 15, 17, 21, 23, 29, 29, 37, 39]\n",
    "yi=[29, 21, 29, 14, 21, 15, 7, 7, 13, 0, 3]\n",
    "\n",
    "\n",
    "n=len(xi)\n",
    "mult, sum1,sumax,sumay,t,z=0,0,0,0,[],[]\n",
    "\n",
    "for i in range (n):\n",
    "    sumax+=xi[i]\n",
    "    sumay+=yi[i]\n",
    "    mult+=xi[i]*yi[i]\n",
    "    sum1+=xi[i]**2\n",
    "\n",
    "expo=sumax**2\n",
    "a1=(n*mult-(sumax*sumay))/(n*sum1-expo)\n",
    "xmedia=sumax/n\n",
    "ymedia=sumay/n\n",
    "a0=ymedia-(a1*xmedia)\n",
    "for j in range (n+25):\n",
    "    y=a0+a1*j\n",
    "    t.append(j)\n",
    "    z.append(y)\n",
    "sr=0\n",
    "for k in range (n):\n",
    "    sr+=(yi[k]-a0-a1*xi[k])**2\n",
    "\n",
    "sxy=math.sqrt(sr/(len(xi)-2))\n",
    "print \"Error estándar de la estimación igual a : \", sxy\n",
    "\n",
    "def suma (a):\n",
    "    s=0\n",
    "    for i in range(n):\n",
    "        s+=a[i]\n",
    "    return s\n",
    "def mul (a,b):\n",
    "    r=0\n",
    "    for j in range (n):\n",
    "        r+=a[j]*b[j]\n",
    "    return r\n",
    "\n",
    "num=(n*(mul(xi,yi))-(suma(xi)*suma(yi)))\n",
    "den=(math.sqrt(n*mul(xi, xi)-suma(xi)**2)*math.sqrt(n*mul(yi, yi)-suma(yi)**2))\n",
    "res=(num)/(den)\n",
    "print \"Coeficiente de correlación igual a : \",res\n",
    "plt.plot(t,z, label='recta y=a0+a1*x')\n",
    "plt.plot(xi,yi, 'ro', label='xi,yi')\n",
    "plt.xlabel('(x)')\n",
    "plt.ylabel('f(x)')\n",
    "plt.legend(loc='upper right', numpoints=1)\n",
    "plt.grid()\n",
    "plt.show()"
   ]
  },
  {
   "cell_type": "code",
   "execution_count": 6,
   "metadata": {
    "collapsed": false
   },
   "outputs": [
    {
     "name": "stdout",
     "output_type": "stream",
     "text": [
      "Error estándar de la estimación igual a :  6.8556546004\n",
      "Coeficiente de correlación igual a :  -0.815879159879\n"
     ]
    },
    {
     "data": {
      "image/png": "[encoded data removed]",
      "text/plain": [
       "<matplotlib.figure.Figure at 0x74c21d0>"
      ]
     },
     "metadata": {},
     "output_type": "display_data"
    },
    {
     "name": "stdout",
     "output_type": "stream",
     "text": [
      "Si se introduce la medición adicional con x=10 y y=10 se puede concluir con base a la gráfica y el error estándar que la medición es inválida, debido a un aumento en el error estándar así como también se puede interpretar en la gráfica que es un valor atípico.\n"
     ]
    }
   ],
   "source": [
    "#17.5\n",
    "\n",
    "import matplotlib.pyplot as plt\n",
    "import math\n",
    "%matplotlib inline\n",
    "xi=[6, 7, 11, 15, 17, 21, 23, 29, 29, 37, 39, 10]\n",
    "yi=[29, 21, 29, 14, 21, 15, 7, 7, 13, 0, 3, 10]\n",
    "\n",
    "\n",
    "n=len(xi)\n",
    "mult, sum1,sumax,sumay,t,z=0,0,0,0,[],[]\n",
    "\n",
    "for i in range (n):\n",
    "    sumax+=xi[i]\n",
    "    sumay+=yi[i]\n",
    "    mult+=xi[i]*yi[i]\n",
    "    sum1+=xi[i]**2\n",
    "\n",
    "expo=sumax**2\n",
    "a1=(n*mult-(sumax*sumay))/(n*sum1-expo)\n",
    "xmedia=sumax/n\n",
    "ymedia=sumay/n\n",
    "a0=ymedia-(a1*xmedia)\n",
    "for j in range (n+25):\n",
    "    y=a0+a1*j\n",
    "    t.append(j)\n",
    "    z.append(y)\n",
    "sr=0\n",
    "for k in range (n):\n",
    "    sr+=(yi[k]-a0-a1*xi[k])**2\n",
    "\n",
    "sxy=math.sqrt(sr/(len(xi)-2))\n",
    "print \"Error estándar de la estimación igual a : \", sxy\n",
    "\n",
    "def suma (a):\n",
    "    s=0\n",
    "    for i in range(n):\n",
    "        s+=a[i]\n",
    "    return s\n",
    "def mul (a,b):\n",
    "    r=0\n",
    "    for j in range (n):\n",
    "        r+=a[j]*b[j]\n",
    "    return r\n",
    "\n",
    "num=(n*(mul(xi,yi))-(suma(xi)*suma(yi)))\n",
    "den=(math.sqrt(n*mul(xi, xi)-suma(xi)**2)*math.sqrt(n*mul(yi, yi)-suma(yi)**2))\n",
    "res=(num)/(den)\n",
    "print \"Coeficiente de correlación igual a : \",res\n",
    "plt.plot(t,z, label='recta y=a0+a1*x')\n",
    "plt.plot(xi,yi, 'ro', label='xi,yi')\n",
    "plt.xlabel('(x)')\n",
    "plt.ylabel('f(x)')\n",
    "plt.legend(loc='upper right', numpoints=1)\n",
    "plt.grid()\n",
    "plt.show()\n",
    "print \"Si se introduce la medición adicional con x=10 y y=10 se puede concluir con base a la gráfica y el error estándar que \\\n",
    "la medición es inválida, debido a un aumento en el error estándar así como también se puede interpretar en la gráfica que es un \\\n",
    "valor atípico.\""
   ]
  }
 ],
 "metadata": {
  "kernelspec": {
   "display_name": "Python 2",
   "language": "python",
   "name": "python2"
  },
  "language_info": {
   "codemirror_mode": {
    "name": "ipython",
    "version": 2
   },
   "file_extension": ".py",
   "mimetype": "text/x-python",
   "name": "python",
   "nbconvert_exporter": "python",
   "pygments_lexer": "ipython2",
   "version": "2.7.11"
  }
 },
 "nbformat": 4,
 "nbformat_minor": 0
}
