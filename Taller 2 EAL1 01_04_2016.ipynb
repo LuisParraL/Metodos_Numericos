{
 "cells": [
  {
   "cell_type": "markdown",
   "metadata": {},
   "source": [
    "9.1)\n",
    "a). Escriba en forma matricial el conjunto siguiente de ecuaciones:\n",
    "50 = 5x3 + 2x2\n",
    "10 – x1 = x3\n",
    "3x2 + 8x1 = 20\n",
    "\n",
    "Respuesta a:\n",
    " \n",
    "[A]=[[0,2,5],[1,0,1],[8,3,0]]\n",
    "\n",
    "b). Escriba la transpuesta de la matriz de coeficientes.\n",
    "\n",
    "Respuesta b:\n",
    "\n",
    "[A]^T=[[0,1,8],[2,0,3],[5,1,0]]"
   ]
  },
  {
   "cell_type": "code",
   "execution_count": 1,
   "metadata": {
    "collapsed": false,
    "scrolled": true
   },
   "outputs": [
    {
     "name": "stdout",
     "output_type": "stream",
     "text": [
      " 1) .La suma de matrices es:  [[5, 8, 15], [8, 4, 10], [5, 0, 10]]\n",
      "2). No se puede sumar, las matrices no tienen las misma dimensiones.\n",
      " 3). La resta de matrices es:  [[3, -2, -1], [-6, 0, 4], [-3, 0, -2]]\n",
      "4). Siete por [B] igual a [[28, 21, 49], [7, 14, 49], [7, 0, 28]]\n",
      " 6). Transpuesta de C :  [[3, 6, 1]]\n",
      " 5). Resultado ExB [[17, 13, 74], [33, 25, 75], [22, 12, 52]]\n",
      " 7). Resultado BxA [[54, 76], [41, 53], [24, 31]]\n",
      " 9). Resultado AxC; no se puede operar\n",
      "10). Resultado IxB [[4, 3, 7], [1, 2, 7], [1, 0, 4]]\n",
      "11). Resultado E^TxE [[66, 19, 53], [19, 29, 46], [53, 46, 109]]\n",
      "12). Rsultado C^TxC [[46], [46]]\n",
      "8). Transpuesta de D :  [[9, 2], [4, -1], [3, 7], [-6, 5]]\n"
     ]
    }
   ],
   "source": [
    "#9.2) Ciertas matrice están definidas como sigue\n",
    "#[A]=[[4,7],[1,2],[5,6]]\n",
    "\n",
    "#[B]=[[4,3,7],[1,2,7],[1,0,4]]\n",
    "\n",
    "#[C]=[[3],[6],[1]]\n",
    "\n",
    "#[D]=[[9,4,3,-6],[2,-1,7,5]]\n",
    "\n",
    "#[E]=[[1,5,8],[7,2,3],[4,0,6]]\n",
    "\n",
    "#[F]=[[3,0,1],[1,7,3]]\n",
    "\n",
    "#[G]=[[7,6,4]]\n",
    "\n",
    "#a). ¿Cuáles son las dimensiones de las matrices?\n",
    "\n",
    "#[A] es una matriz 3x2\n",
    "#[B] es una matriz 3x3\n",
    "#[C] es una matriz 3x1\n",
    "#[D] es una matriz 2x4\n",
    "#[E] es una matriz 3x3\n",
    "#[F] es una matriz 2x3\n",
    "#[G] es una matriz 1x3\n",
    "\n",
    "#b). Identifique las matrices cuadrada, columna y renglón.\n",
    "\n",
    "#Matrices cuadradas: [B],[3]\n",
    "#Matriz columna: [C]\n",
    "#Matriz renglón: [G]\n",
    "\n",
    "#c). Elemento a12=7, Elemento b23=7, Elemento d32=No hay, Elemento e22=2, Elemento f12=0, Elemento g12=6\n",
    "\n",
    "#d\n",
    "#1\n",
    "B=[[4,3,7],[1,2,7],[1,0,4]]\n",
    "I=[[1,0,0],[0,1,0],[0,0,1]]\n",
    "E=[[1,5,8],[7,2,3],[4,0,6]]\n",
    "R=[[0,0,0],[0,0,0],[0,0,0]]\n",
    "C=[[3],[6],[1]]\n",
    "A=[[4,7],[1,2],[5,6]]\n",
    "matrizT,matrizT1,matrizT2=[],[],[]\n",
    "D=[[9,4,3,-6],[2,-1,7,5]]\n",
    "def sumaEB ():\n",
    "    for i in range (3):\n",
    "        for j in range (3):\n",
    "            R[i][j]=(B[i][j]+E[i][j])\n",
    "    print \" 1) .La suma de matrices es: \", R\n",
    "sumaEB()\n",
    "print \"2). No se puede sumar, las matrices no tienen las misma dimensiones.\"\n",
    "#2 No se puede sumar, las matrices no tienen las misma dimensiones.\n",
    "\n",
    "#3\n",
    "def restaEB ():\n",
    "    for i in range (3):\n",
    "        for j in range (3):\n",
    "            R[i][j]=(B[i][j]-E[i][j])\n",
    "    print \" 3). La resta de matrices es: \", R\n",
    "restaEB()\n",
    "\n",
    "#4\n",
    "def sietePorB():\n",
    "    for i in range (3):\n",
    "        for j in range (3):\n",
    "            R[i][j]=7*B[i][j]\n",
    "    print \"4). Siete por [B] igual a\", R\n",
    "sietePorB()\n",
    "def transpuestaE(E):\n",
    "    for i in range (len(E[0])):\n",
    "        ar2=[]\n",
    "        for j in range (len(E)):\n",
    "            ar2.append(E[j][i])\n",
    "        matrizT2.append(ar2)\n",
    "    return matrizT2\n",
    "#5\n",
    "def mult(X,Y):\n",
    "    C=[]\n",
    "    for i in range(len(X)):\n",
    "        C.append([0]*len(Y[0]))\n",
    "        for j in range(len(Y[0])):\n",
    "            for k in range(len(Y)):\n",
    "                C[i][j]+= X[i][k]*Y[k][j]           \n",
    "    return C\n",
    "\n",
    "#6\n",
    "\n",
    "def transpuestaC(C):\n",
    "    for i in range (len(C[0])):\n",
    "        ar=[]\n",
    "        for j in range (len(C)):\n",
    "            ar.append(C[j][i])\n",
    "        matrizT.append(ar)\n",
    "    return matrizT\n",
    "print \" 6). Transpuesta de C : \", transpuestaC(C)\n",
    "\n",
    "print \" 5). Resultado ExB\", mult(E,B)\n",
    "print \" 7). Resultado BxA\", mult(B,A)\n",
    "print \" 9). Resultado AxC; no se puede operar\"\n",
    "print \"10). Resultado IxB\", mult(I,B)\n",
    "print \"11). Resultado E^TxE\", mult(transpuestaE(E),E)\n",
    "print \"12). Rsultado C^TxC\", mult(transpuestaC(C),C)\n",
    "\n",
    "\n",
    "#8\n",
    "def transpuestaD():\n",
    "    for i in range (len(D[0])):\n",
    "        ar1=[]\n",
    "        for j in range (len(D)):\n",
    "            ar1.append(0)\n",
    "        matrizT1.append(ar1)\n",
    "        for j in range(len(D)):\n",
    "            matrizT1[i][j]=D[j][i]\n",
    "    print \"8). Transpuesta de D : \",matrizT1\n",
    "transpuestaD()\n"
   ]
  },
  {
   "cell_type": "code",
   "execution_count": 2,
   "metadata": {
    "collapsed": false
   },
   "outputs": [
    {
     "name": "stdout",
     "output_type": "stream",
     "text": [
      "Resultado AxB igual a :  [[4.0, 15], [8.0, 29], [9.0, 29]]\n",
      "Resultado BxA igual a :  No se puede multiplicar porque el número de columnas de X es diferente a número de filas de Y\n",
      "[]\n",
      "Resultado AxC igual a [[-16, 4], [-24, 4], [2, -10]]\n",
      "Resultado CxA igual a No se puede multiplicar porque el número de columnas de X es diferente a número de filas de Y\n",
      "[]\n",
      "Resultado BxC igual a [[-7, 1], [-5.0, 1.0]]\n",
      "Resultado CxB igual a [[1.0, 2], [-2.5, -7]]\n",
      " b). Este método simple explica el porqué es imposible multiplicar dos matrices si el número de columnas de la primera matriz no es igual al número de renglones en la segunda matriz. Note también la importancia del orden en la multiplicación (es decir, la multiplicación de matrices no es conmutativa).\n",
      "c). Se debe tener claro el orden en que se quieren multiplicar matrices, ya que como vimos en el recuadro PT3.2 la multiplicación entre matrices no es conmutativa, esto es: AxB!=BxA\n"
     ]
    }
   ],
   "source": [
    "#9.3\n",
    "A=[[1,6],[3,10],[7,4]]\n",
    "B=[[1,3],[0.5,2]]\n",
    "C=[[2,-2],[-3,1]]\n",
    "resultado=[],[]\n",
    "\n",
    "\n",
    "def multi(X,Y):\n",
    "    c=[]\n",
    "    if(len(X[0])!=len(Y)):\n",
    "        print \"No se puede multiplicar porque el número de columnas de X es diferente a número de filas de Y\"\n",
    "    if(len(X[0])==len(Y)):\n",
    "        for i in range(len(X)):\n",
    "            c.append([0]*len(Y[0]))               \n",
    "            for j in range(len(Y[0])):\n",
    "                for k in range(len(Y)):\n",
    "                    c[i][j]+= X[i][k]*Y[k][j]           \n",
    "    return c\n",
    "print \"Resultado AxB igual a : \", multi(A,B)\n",
    "print \"Resultado BxA igual a : \", multi(B,A)\n",
    "print \"Resultado AxC igual a\", multi(A,C)\n",
    "print \"Resultado CxA igual a\", multi(C,A)\n",
    "print \"Resultado BxC igual a\", multi(B,C)\n",
    "print \"Resultado CxB igual a\", multi(C,B)\n",
    "\n",
    "print \" b). Este método simple explica el porqué es imposible \\\n",
    "multiplicar dos matrices si el número de columnas de la primera \\\n",
    "matriz no es igual al número de renglones en la segunda matriz. \\\n",
    "Note también la importancia del orden en la multiplicación (es \\\n",
    "decir, la multiplicación de matrices no es conmutativa).\"\n",
    "\n",
    "print \"c). Se debe tener claro el orden en que se quieren multiplicar matrices, ya que como vimos en \\\n",
    "el recuadro PT3.2 la multiplicación entre matrices no es conmutativa, esto es: AxB!=BxA\""
   ]
  },
  {
   "cell_type": "code",
   "execution_count": 3,
   "metadata": {
    "collapsed": false
   },
   "outputs": [
    {
     "name": "stdout",
     "output_type": "stream",
     "text": [
      "La solución de x2 es :  5.0\n",
      "La solución para x1 es :  4.0\n",
      "Reemplazando en la primera ecuación :  -24.0 igual a -24\n",
      "Reemplazando en la segunda ecuación :  34.0 igual a 34\n"
     ]
    },
    {
     "data": {
      "image/png": "[encoded data removed]",
      "text/plain": [
       "<matplotlib.figure.Figure at 0x60b0358>"
      ]
     },
     "metadata": {},
     "output_type": "display_data"
    }
   ],
   "source": [
    "#9.4\n",
    "import math\n",
    "import matplotlib.pyplot as plt\n",
    "t,x,y,ar1,ar2=[],[],[],[],[]\n",
    "%matplotlib inline\n",
    "r=0\n",
    "while r<8:\n",
    "    x21=(0.5)*r +3\n",
    "    x22=((34-r)/6.0)\n",
    "    t.append(r)\n",
    "    x.append(x21)\n",
    "    y.append(x22)\n",
    "    if(x21==x22):\n",
    "        x2=x21\n",
    "        x1=((2*x2)-6)\n",
    "        print \"La solución de x2 es : \", x2\n",
    "    r+=1\n",
    "print \"La solución para x1 es : \", x1\n",
    "print \"Reemplazando en la primera ecuación : \", 4*x1-8*x2, \"igual a\",-24\n",
    "print \"Reemplazando en la segunda ecuación : \", x1+6*x2, \"igual a\",34\n",
    "plt.plot(t,x, linewidth='2.0', label='4x1-8x2=-24')\n",
    "plt.plot(t,y, linewidth='2.0',label='x1+6x2=34')\n",
    "plt.plot(x1,x2, 'cs', label='Solucion')\n",
    "plt.xlabel('x1')\n",
    "plt.ylabel('x2')\n",
    "plt.legend(loc='upper right', numpoints= 1)\n",
    "plt.grid(True)\n",
    "plt.show()"
   ]
  },
  {
   "cell_type": "code",
   "execution_count": 4,
   "metadata": {
    "collapsed": false
   },
   "outputs": [
    {
     "name": "stdout",
     "output_type": "stream",
     "text": [
      "La solución aproximada de x2 es :  56.51\n",
      "La solución aproximada para x1 es :  404.636363636\n",
      "a). \n",
      " Reemplazando en la primera ecuación :  120.0 igual a :  120\n",
      "Reemplazando en la segunda ecuación :  174.0 igual a :  174\n",
      " \n",
      "b).Las dos rectas se intersectan, esto quiere decir que existe una única solución para este sistema\n",
      "Determinante igual a :  0.86\n",
      "x1 por eliminación de incógnitas :  404.651162791\n",
      "x2 por eliminación de incógnitas :  56.511627907\n"
     ]
    },
    {
     "data": {
      "image/png": "[encoded data removed]",
      "text/plain": [
       "<matplotlib.figure.Figure at 0x6a8edd8>"
      ]
     },
     "metadata": {},
     "output_type": "display_data"
    }
   ],
   "source": [
    "#9.5\n",
    "import math\n",
    "import matplotlib.pyplot as plt\n",
    "t,x,y,ar1,ar2,matriz,b=[],[],[],[],[],[[-1.1,10],[-2,17.4]],[120,174]\n",
    "%matplotlib inline\n",
    "r=0\n",
    "while r<=600:\n",
    "    x21=float(format((12.0 + 0.11*r), '.4g'))\n",
    "    x22=float(format((10.0 + (2*r)/17.4), '.4g'))\n",
    "    t.append(r)\n",
    "    x.append(x21)\n",
    "    y.append(x22)\n",
    "    if((x21==x22) and (x21==56.51)):\n",
    "        x2=x21\n",
    "        x1=((10.0*x2)-120)/1.1\n",
    "        print \"La solución aproximada de x2 es : \", x2\n",
    "    r+=0.1\n",
    "print \"La solución aproximada para x1 es : \", x1\n",
    "print \"a).\",\"\\n Reemplazando en la primera ecuación : \", -1.1*x1+10*x2, \"igual a : \", 120\n",
    "print \"Reemplazando en la segunda ecuación : \", round((-2*x1+17.4*x2),1), \"igual a : \", 174\n",
    "print \" \\nb).Las dos rectas se intersectan, esto quiere decir que existe una única solución para este sistema\"\n",
    "\n",
    "deter=(matriz[0][0]*matriz[1][1]-matriz[0][1]*matriz[1][0])\n",
    "print \"Determinante igual a : \", deter\n",
    "\n",
    "#Eliminación de incógnitas\n",
    "\n",
    "x11=((matriz[1][1]*b[0]-matriz[0][1]*b[1])/(matriz[0][0]*matriz[1][1]-matriz[0][1]*matriz[1][0]))\n",
    "print \"x1 por eliminación de incógnitas : \", x11\n",
    "x22=((matriz[0][0]*b[1]-matriz[1][0]*b[0])/(matriz[0][0]*matriz[1][1]-matriz[0][1]*matriz[1][0]))\n",
    "print \"x2 por eliminación de incógnitas : \", x22\n",
    "\n",
    "plt.plot(t,x, linewidth='2.0', label='-1.1x1+10x2=120')\n",
    "plt.plot(t,y, linewidth='2.0',label='-2x1+17.4x2=174')\n",
    "plt.plot(x1,x2, 'cs', label='Solucion')\n",
    "plt.xlabel('x1')\n",
    "plt.ylabel('x2')\n",
    "plt.axis([380, 430, 53, 60])\n",
    "plt.legend(loc='upper left', numpoints=1)\n",
    "plt.grid(True)\n",
    "plt.show()"
   ]
  },
  {
   "cell_type": "code",
   "execution_count": 5,
   "metadata": {
    "collapsed": false
   },
   "outputs": [
    {
     "name": "stdout",
     "output_type": "stream",
     "text": [
      " a). Determinante igual a :  1\n",
      " \n",
      " b).x1 igual a :  6\n",
      "\n",
      " b). x2 igual a :  -8\n",
      "\n",
      " b). x3 igual a :  5\n",
      " \n",
      " c). Reemplazando en la primera ecuación :  9 igual a :  9\n",
      "\n",
      " c). Reemplazando en la primera ecuación :  9 igual a :  9\n",
      "\n",
      " c).Reemplazando en la primera ecuación :  10 igual a :  10\n"
     ]
    }
   ],
   "source": [
    "#9.6\n",
    "m,m0,m1,m2,b=[[0,2,5],[2,1,1,],[3,1,0]],[[0,2,5],[2,1,1,],[3,1,0]],[[0,2,5],[2,1,1,],[3,1,0]],[[0,2,5],[2,1,1,],[3,1,0]],[9,9,10]\n",
    "deter,deter1,deter2,deter3=0,0,0,0\n",
    "for l in range(3):\n",
    "    m0[l][0]=b[l]\n",
    "    m1[l][1]=b[l]\n",
    "    m2[l][2]=b[l]\n",
    "def solucion(z,k):\n",
    "    mp=0\n",
    "    if k==0:\n",
    "        mp=(z[1][1]*z[2][2]-z[1][2]*z[2][1])\n",
    "    if k==1:\n",
    "        mp=(z[1][0]*z[2][2]-z[1][2]*z[2][0])*(-1)\n",
    "    if k==2:\n",
    "        mp=(z[1][0]*z[2][1]-z[1][1]*z[2][0])    \n",
    "    return (mp)\n",
    "\n",
    "for i in range (0,3):    \n",
    "    deter = deter + (m[0][i]*solucion(m,i))\n",
    "    deter1 = deter1 + (m0[0][i]*solucion(m0,i))\n",
    "    deter2 = deter2 + (m1[0][i]*solucion(m1,i))\n",
    "    deter3 = deter3 + (m2[0][i]*solucion(m2,i))\n",
    "print \" a). Determinante igual a : \", deter\n",
    "print \" \\n b).x1 igual a : \", deter1/deter\n",
    "print \"\\n b). x2 igual a : \", deter2/deter\n",
    "print \"\\n b). x3 igual a : \", deter3/deter\n",
    "print \" \\n c). Reemplazando en la primera ecuación : \", 2*(deter2/deter)+5*(deter3/deter), \"igual a : \",b[0]\n",
    "print \"\\n c). Reemplazando en la primera ecuación : \", 2*(deter1/deter)+1*(deter2/deter)+1*(deter3/deter), \"igual a : \",b[1]\n",
    "print \"\\n c).Reemplazando en la primera ecuación : \", 3*(deter1/deter)+1*(deter2/deter), \"igual a : \",b[2]"
   ]
  },
  {
   "cell_type": "code",
   "execution_count": 6,
   "metadata": {
    "collapsed": false
   },
   "outputs": [
    {
     "name": "stdout",
     "output_type": "stream",
     "text": [
      "b ). El determinante es :  0.02\n",
      "La solución para x2 es :  14.5\n",
      "La solución para x1 es :  10.0\n",
      "c). Debido a que el determinante tiende a cero las gráficas parecen que remontara una sobre la otra, esto ocurre cuando el sistema puede tener muchas soluciones; sin embargo hay una intersección por lo tanto el sistema tiene única solución\n",
      "x1 por eliminación de incógnitas :  10.0\n",
      "x2 por eliminación de incógnitas :  14.5\n"
     ]
    },
    {
     "data": {
      "image/png": "[encoded data removed]",
      "text/plain": [
       "<matplotlib.figure.Figure at 0x6476ef0>"
      ]
     },
     "metadata": {},
     "output_type": "display_data"
    }
   ],
   "source": [
    "#9.7\n",
    "import matplotlib.pyplot as plt\n",
    "%matplotlib inline\n",
    "m,t,x,y,b=[[0.5,-1],[1.02,-2]],[],[],[],[-9.5,-18.8]\n",
    "deter=m[0][0]*m[1][1]-m[0][1]*m[1][0]\n",
    "print \"b ). El determinante es : \",deter\n",
    "for k in range (20):\n",
    "    x2a=(9.5+0.5*k)\n",
    "    x2b=((18.8+1.02*k)/2.0)\n",
    "    t.append(k)\n",
    "    x.append(x2a)\n",
    "    y.append(x2b)\n",
    "    if (x2a==x2b):\n",
    "        xb=x2a\n",
    "        xa=((xb-9.5)/0.5)\n",
    "        print \"La solución para x2 es : \", xb\n",
    "print \"La solución para x1 es : \", xa\n",
    "print \"c). Debido a que el determinante tiende a cero las gráficas parecen que remontara una sobre la otra, esto ocurre \\\n",
    "cuando el sistema puede tener muchas soluciones; sin embargo hay una intersección por lo tanto el sistema tiene única solución\"\n",
    "\n",
    "#Eliminación de incógnitas\n",
    "\n",
    "x11=((m[1][1]*b[0]-m[0][1]*b[1])/(m[0][0]*m[1][1]-m[0][1]*m[1][0]))\n",
    "print \"x1 por eliminación de incógnitas : \", x11\n",
    "x22=((m[0][0]*b[1]-m[1][0]*b[0])/(m[0][0]*m[1][1]-m[0][1]*m[1][0]))\n",
    "print \"x2 por eliminación de incógnitas : \", x22\n",
    "\n",
    "plt.plot(t,x, linewidth='2.0', label='0.5x1-x2=-9.5')\n",
    "plt.plot(t,y, linewidth='2.0', label='1.02x1-2x2=-18.8')\n",
    "plt.plot(xa,xb, 'cs', label='Solucion')\n",
    "plt.xlabel('x1')\n",
    "plt.ylabel('x2')\n",
    "plt.axis([0,20,8,20])\n",
    "plt.legend(loc ='upper left', numpoints=1)\n",
    "plt.grid(True)\n",
    "plt.show()"
   ]
  },
  {
   "cell_type": "code",
   "execution_count": 7,
   "metadata": {
    "collapsed": false
   },
   "outputs": [
    {
     "name": "stdout",
     "output_type": "stream",
     "text": [
      "b ). El determinante es :  -0.02\n",
      "La solución para x2 es :  4.3\n",
      "La solución para x1 es :  -10.0\n",
      "c). Debido a que el determinante tiende a cero las gráficas parecen que remontara una sobre la otra, esto ocurre cuando el sistema puede tener muchas soluciones; sin embargo hay una intersección por lo tanto el sistema tiene única solución\n",
      "x1 por eliminación de incógnitas :  -10.0\n",
      "x2 por eliminación de incógnitas :  4.3\n"
     ]
    },
    {
     "data": {
      "image/png": "[encoded data removed]",
      "text/plain": [
       "<matplotlib.figure.Figure at 0x36d64a8>"
      ]
     },
     "metadata": {},
     "output_type": "display_data"
    }
   ],
   "source": [
    "# d del 9.7\n",
    "import matplotlib.pyplot as plt\n",
    "%matplotlib inline\n",
    "m,t,x,y,b=[[0.52,-1],[1.02,-2]],[],[],[],[-9.5,-18.8]\n",
    "deter=m[0][0]*m[1][1]-m[0][1]*m[1][0]\n",
    "print \"b ). El determinante es : \",deter\n",
    "k=-10\n",
    "while k<20:\n",
    "    x2a=(9.5+0.52*k)\n",
    "    x2b=((18.8+1.02*k)/2.0)\n",
    "    t.append(k)\n",
    "    x.append(x2a)\n",
    "    y.append(x2b)\n",
    "    if (float(format((x2a),'.2'))==float(format((x2b),'.5g'))):\n",
    "        xb=x2a\n",
    "        xa=((xb-9.5)/0.52)\n",
    "        print \"La solución para x2 es : \", xb\n",
    "    k+=1\n",
    "print \"La solución para x1 es : \", xa\n",
    "print \"c). Debido a que el determinante tiende a cero las gráficas parecen que remontara una sobre la otra, esto ocurre \\\n",
    "cuando el sistema puede tener muchas soluciones; sin embargo hay una intersección por lo tanto el sistema tiene única solución\"\n",
    "\n",
    "#Eliminación de incógnitas\n",
    "\n",
    "x11=((m[1][1]*b[0]-m[0][1]*b[1])/(m[0][0]*m[1][1]-m[0][1]*m[1][0]))\n",
    "print \"x1 por eliminación de incógnitas : \", x11\n",
    "x22=((m[0][0]*b[1]-m[1][0]*b[0])/(m[0][0]*m[1][1]-m[0][1]*m[1][0]))\n",
    "print \"x2 por eliminación de incógnitas : \", x22\n",
    "\n",
    "plt.plot(t,x, linewidth='2.0', label='0.52x1-x2=-9.5')\n",
    "plt.plot(t,y, linewidth='2.0', label='1.02x1-2x2=-18.8')\n",
    "plt.plot(xa,xb, 'cs', label='Solucion')\n",
    "plt.xlabel('x1')\n",
    "plt.ylabel('x2')\n",
    "plt.axis([0,20,2,20])\n",
    "plt.legend(loc ='upper left', numpoints=1)\n",
    "plt.grid(True)\n",
    "plt.show()"
   ]
  },
  {
   "cell_type": "code",
   "execution_count": 8,
   "metadata": {
    "collapsed": false
   },
   "outputs": [
    {
     "name": "stdout",
     "output_type": "stream",
     "text": [
      "\n",
      "El valor de la incognita X1 es 0.500000\n",
      "\n",
      "El valor de la incognita X2 es 8.000000\n",
      "\n",
      "El valor de la incognita X3 es -6.000000\n",
      "Reemplazando en la primera ecuación :  27.0 igual a :  27.0\n",
      "Reemplazando en la segunda ecuación :  -61.5 igual a :  -61.5\n",
      "Reemplazando en la tercera ecuación :  -21.5 igual a :  -21.5\n"
     ]
    }
   ],
   "source": [
    "#9.8\n",
    "#a\n",
    "m,r,x,d,y,i,j,k,h,n = [],[],[],0.0,0.0,0,0,0,0,3\n",
    "for z in range(0,n):\n",
    "    m.append([0.0]*n)\n",
    "    \n",
    "m[0][0],m[0][1],m[0][2],m[1][0],m[1][1],m[1][2],m[2][0],m[2][1],m[2][2]=10.0,2.0,-1.0,-3.0,-6.0,2.0,1.0,1.0,5.0 \n",
    "r=[27.0,-61.5,-21.5]\n",
    "x=[0.0,0.0,0.0]\n",
    "rr=[27.0,-61.5,-21.5]\n",
    "for i in range(0,n):\n",
    "    for j in range(i,n):\n",
    "        if (i==j):\n",
    "            d = m[i][j]\n",
    "            for s in range (0,n):\n",
    "                m[i][s]=((m[i][s])/d)\n",
    "            r[i]=((r[i])/d)\n",
    "        else:\n",
    "            d=m[j][i]\n",
    "            for s in range (0,n):\n",
    "                m[j][s]=m[j][s]-(d*m[i][s])\n",
    "            r[j]=r[j]-(d*r[i])\n",
    "i=n-1\n",
    "j=n-1\n",
    "\n",
    "while (i>=0):\n",
    "    y = r[i]\n",
    "    while (j>=i):\n",
    "        y=y-x[j]*m[i][j]\n",
    "        j -= 1\n",
    "    x[i]=y\n",
    "    i -= 1\n",
    "    j=n-1\n",
    "for i in range(0,n):\n",
    "    k=i+1\n",
    "    print \"\"\n",
    "    print \"El valor de la incognita X%d es %f\"%(k,x[i])\n",
    "#b\n",
    "print \"Reemplazando en la primera ecuación : \", 10*x[0]+2*x[1]-1*x[2], \"igual a : \", rr[0]\n",
    "print \"Reemplazando en la segunda ecuación : \", -3*x[0]-6*x[1]+2*x[2], \"igual a : \", rr[1]\n",
    "print \"Reemplazando en la tercera ecuación : \", 1*x[0]+1*x[1]+5*x[2], \"igual a : \", rr[2]"
   ]
  }
 ],
 "metadata": {
  "kernelspec": {
   "display_name": "Python 2",
   "language": "python",
   "name": "python2"
  },
  "language_info": {
   "codemirror_mode": {
    "name": "ipython",
    "version": 2
   },
   "file_extension": ".py",
   "mimetype": "text/x-python",
   "name": "python",
   "nbconvert_exporter": "python",
   "pygments_lexer": "ipython2",
   "version": "2.7.11"
  }
 },
 "nbformat": 4,
 "nbformat_minor": 0
}
