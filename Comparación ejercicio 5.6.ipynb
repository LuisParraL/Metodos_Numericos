{
 "cells": [
  {
   "cell_type": "code",
   "execution_count": 16,
   "metadata": {
    "collapsed": false
   },
   "outputs": [
    {
     "name": "stdout",
     "output_type": "stream",
     "text": [
      "Falsa posición\n",
      "Bisección\n"
     ]
    }
   ],
   "source": [
    "import math\n",
    "from tabulate import tabulate\n",
    "import matplotlib.pyplot as plt\n",
    "\n",
    "xl,xu,fc1,fc2,fc11,fc22,tab,xu1,xl1,t,vv,aerpv,aerpv1=0.0,1.3,1,1,1,1,[],1.3,0.0,[],1.0,[],[]\n",
    "for l in range (40):\n",
    "    t.append(l)\n",
    "    \n",
    "def funcion(num):\n",
    "    fx=math.pow(num,10)-1\n",
    "    return fx\n",
    "\n",
    "i=0\n",
    "while ((fc1*fc2)!=0):\n",
    "    f2=funcion(xu)\n",
    "    f1=funcion(xl)\n",
    "    xr=xu-(f2*(xl-xu))/(f1-f2)\n",
    "    Erpv=((vv-xr)/(vv))*100\n",
    "    aerpv.append(Erpv)\n",
    "    fc1=funcion(xl)\n",
    "    fc2=funcion(xr)\n",
    "    if ((fc1*fc2)<0):\n",
    "        xu=xr\n",
    "    if((fc1*fc2)>0):\n",
    "        xl=xr\n",
    "    i+=1\n",
    "    if (i==40):\n",
    "        break\n",
    "print \"Falsa posición\"\n",
    "\n",
    "\n",
    "xr1=0\n",
    "def funcion2(num1):\n",
    "    fx1=math.pow(num1,10)-1\n",
    "    return fx1\n",
    "j=0\n",
    "while ((fc11*fc22)!=0):\n",
    "    xra=xr1\n",
    "    xr1=(xl1+xu1)/2\n",
    "    Erpv1=((vv-xr1)/(vv))*100\n",
    "    aerpv1.append(Erpv1)\n",
    "    fc11=funcion2(xl1)\n",
    "    fc22=funcion2(xr1)\n",
    "    Ea=math.fabs(((xr1-xra)/xr1)*100)\n",
    "    if ((fc11*fc22)<0):\n",
    "        xu1=xr1\n",
    "    if((fc11*fc22)>0):\n",
    "        xl1=xr1\n",
    "    j+=1\n",
    "    if (j==40):\n",
    "        break   \n",
    "\n",
    "print \"Bisección\"\n",
    "plt.plot (t, aerpv,label='Error relativo metodo falsa posicion')\n",
    "plt.plot (t, aerpv1,label='Error relativo metodo biseccion')\n",
    "plt.legend()\n",
    "plt.show()"
   ]
  },
  {
   "cell_type": "code",
   "execution_count": null,
   "metadata": {
    "collapsed": true
   },
   "outputs": [],
   "source": []
  }
 ],
 "metadata": {
  "kernelspec": {
   "display_name": "Python 2",
   "language": "python",
   "name": "python2"
  },
  "language_info": {
   "codemirror_mode": {
    "name": "ipython",
    "version": 2
   },
   "file_extension": ".py",
   "mimetype": "text/x-python",
   "name": "python",
   "nbconvert_exporter": "python",
   "pygments_lexer": "ipython2",
   "version": "2.7.11"
  }
 },
 "nbformat": 4,
 "nbformat_minor": 0
}
