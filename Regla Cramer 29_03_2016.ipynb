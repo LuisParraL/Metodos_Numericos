{
 "cells": [
  {
   "cell_type": "code",
   "execution_count": 4,
   "metadata": {
    "collapsed": false
   },
   "outputs": [
    {
     "name": "stdout",
     "output_type": "stream",
     "text": [
      "Elemento 0, 0 :0.3\n",
      "Elemento 0, 1 :0.52\n",
      "Elemento 0, 2 :1\n",
      "Igual a b1 : -0.01\n",
      "Elemento 1, 0 :0.5\n",
      "Elemento 1, 1 :1\n",
      "Elemento 1, 2 :1.9\n",
      "Igual a b2 : 0.67\n",
      "Elemento 2, 0 :0.1\n",
      "Elemento 2, 1 :0.3\n",
      "Elemento 2, 2 :0.5\n",
      "Igual a b3 : -0.44\n",
      "Determinante igual a :  -0.0022\n",
      "x1 igual a :  -14.9\n",
      "x2 igual a :  -29.5\n",
      "x3 igual a :  19.8\n"
     ]
    }
   ],
   "source": [
    "filas, colum,deter,deter1,deter2,deter3,b=3,3,0,0,0,0,[]\n",
    "m0, m1, m2,matriz =[[0,0,0],[0,0,0],[0,0,0]],[[0,0,0],[0,0,0],[0,0,0]],[[0,0,0],[0,0,0],[0,0,0]],[[0,0,0],[0,0,0],[0,0,0]]\n",
    "def funcion():\n",
    "    for i in range (filas):\n",
    "        for j in range (colum):\n",
    "            captura=input(\"Elemento %d, %d :\" %(i,j))\n",
    "            if (i==0 and j==2):\n",
    "                b.append(input(\"Igual a b1 : \" ))\n",
    "            if (i==1 and j==2):\n",
    "                b.append(input(\"Igual a b2 : \" ))\n",
    "            if (i==2 and j==2):\n",
    "                b.append(input(\"Igual a b3 : \" ))\n",
    "            matriz[i][j]=captura\n",
    "            m0[i][j]=captura\n",
    "            m1[i][j]=captura\n",
    "            m2[i][j]=captura\n",
    "    return matriz\n",
    "funcion()\n",
    "  \n",
    "for l in range(3):\n",
    "    m0[l][0]=b[l]\n",
    "    m1[l][1]=b[l]\n",
    "    m2[l][2]=b[l]\n",
    "\n",
    "def solucion(z,k):\n",
    "    mp=0\n",
    "    if k==0:\n",
    "        mp=(z[1][1]*z[2][2]-z[1][2]*z[2][1])\n",
    "    if k==1:\n",
    "        mp=(z[1][0]*z[2][2]-z[1][2]*z[2][0])*(-1)\n",
    "    if k==2:\n",
    "        mp=(z[1][0]*z[2][1]-z[1][1]*z[2][0])    \n",
    "    return (mp)\n",
    "\n",
    "for i in range (0,3):    \n",
    "    deter = deter + (matriz[0][i]*solucion(matriz,i))\n",
    "    deter1 = deter1 + (m0[0][i]*solucion(m0,i))\n",
    "    deter2 = deter2 + (m1[0][i]*solucion(m1,i))\n",
    "    deter3 = deter3 + (m2[0][i]*solucion(m2,i))\n",
    "print \"Determinante igual a : \", deter\n",
    "print \"x1 igual a : \", deter1/deter\n",
    "print \"x2 igual a : \", deter2/deter\n",
    "print \"x3 igual a : \", deter3/deter\n"
   ]
  },
  {
   "cell_type": "code",
   "execution_count": null,
   "metadata": {
    "collapsed": true
   },
   "outputs": [],
   "source": []
  }
 ],
 "metadata": {
  "kernelspec": {
   "display_name": "Python 2",
   "language": "python",
   "name": "python2"
  },
  "language_info": {
   "codemirror_mode": {
    "name": "ipython",
    "version": 2
   },
   "file_extension": ".py",
   "mimetype": "text/x-python",
   "name": "python",
   "nbconvert_exporter": "python",
   "pygments_lexer": "ipython2",
   "version": "2.7.11"
  }
 },
 "nbformat": 4,
 "nbformat_minor": 0
}
