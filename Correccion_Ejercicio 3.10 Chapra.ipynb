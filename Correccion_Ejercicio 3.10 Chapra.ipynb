{
 "cells": [
  {
   "cell_type": "code",
   "execution_count": 1,
   "metadata": {
    "collapsed": false
   },
   "outputs": [
    {
     "name": "stdout",
     "output_type": "stream",
     "text": [
      "|   x1 3.12 |   x2 3.12 |   x1 3.13 |   x2 3.13 |\n",
      "|-----------+-----------+-----------+-----------|\n",
      "|      5000 |     0.002 |      5000 |     0.002 |\n"
     ]
    }
   ],
   "source": [
    "import math\n",
    "from tabulate import tabulate\n",
    "tab=[]\n",
    "# Ecuación 3.12 x^2– 5000.002x + 10\n",
    "a,b,c=1,-5000.002,10\n",
    "x1=float(format(((-b+math.sqrt(math.pow(b,2)-4*a*c))/2*a), '.5g'))\n",
    "x2=float(format(((-b-math.sqrt(math.pow(b,2)-4*a*c))/2*a), '.5g'))\n",
    "\n",
    "#Ecuación 3.13 x^2– 5000.002x + 10\n",
    "x11=float(format(((-2*c)/(b+math.sqrt(math.pow(b,2)-4*a*c))), '.5g'))\n",
    "x22=float(format(((-2*c)/(b-math.sqrt(math.pow(b,2)-4*a*c))), '.5g'))\n",
    "tab.append([x1,x2,x11,x22])\n",
    "print tabulate(tab,headers=[\"x1 3.12\", \"x2 3.12\", \"x1 3.13\", \"x2 3.13\" ], tablefmt=\"orgtbl\")\n",
    "# Usando aritmética de 5 digitos los valores que dan en cualquiera de las dos formulas es el mismo, por lo tanto al momento de\n",
    "# hallar los errores daría 0."
   ]
  },
  {
   "cell_type": "code",
   "execution_count": null,
   "metadata": {
    "collapsed": true
   },
   "outputs": [],
   "source": []
  }
 ],
 "metadata": {
  "kernelspec": {
   "display_name": "Python 2",
   "language": "python",
   "name": "python2"
  },
  "language_info": {
   "codemirror_mode": {
    "name": "ipython",
    "version": 2
   },
   "file_extension": ".py",
   "mimetype": "text/x-python",
   "name": "python",
   "nbconvert_exporter": "python",
   "pygments_lexer": "ipython2",
   "version": "2.7.11"
  }
 },
 "nbformat": 4,
 "nbformat_minor": 0
}
