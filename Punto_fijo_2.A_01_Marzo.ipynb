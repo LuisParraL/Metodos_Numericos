{
 "cells": [
  {
   "cell_type": "code",
   "execution_count": 4,
   "metadata": {
    "collapsed": false
   },
   "outputs": [
    {
     "name": "stdout",
     "output_type": "stream",
     "text": [
      "|   Iteracion |     Raiz |        Et |\n",
      "|-------------+----------+-----------|\n",
      "|           1 | 1        | 76.3357   |\n",
      "|           2 | 0.367879 | 35.1297   |\n",
      "|           3 | 0.692201 | 22.0597   |\n",
      "|           4 | 0.500474 | 11.7486   |\n",
      "|           5 | 0.606244 |  6.9024   |\n",
      "|           6 | 0.545396 |  3.82723  |\n",
      "|           7 | 0.579612 |  2.20637  |\n",
      "|           8 | 0.560115 |  1.23162  |\n",
      "|           9 | 0.571143 |  0.712946 |\n",
      "|          10 | 0.564879 |  0.39158  |\n"
     ]
    }
   ],
   "source": [
    "import math\n",
    "from tabulate import tabulate\n",
    "i=0\n",
    "fun=0\n",
    "tab=[]\n",
    "while i<10:\n",
    "    fun=math.exp(-fun)\n",
    "    Erpv=math.fabs(((0.5671-fun)/0.5671)*100)\n",
    "    tab.append([i+1,fun,Erpv])\n",
    "    i+=1\n",
    "print tabulate (tab,headers=[\"Iteracion\", \"Raiz\", \"Et\"],tablefmt='orgtbl')"
   ]
  }
 ],
 "metadata": {
  "kernelspec": {
   "display_name": "Python 2",
   "language": "python",
   "name": "python2"
  },
  "language_info": {
   "codemirror_mode": {
    "name": "ipython",
    "version": 2
   },
   "file_extension": ".py",
   "mimetype": "text/x-python",
   "name": "python",
   "nbconvert_exporter": "python",
   "pygments_lexer": "ipython2",
   "version": "2.7.11"
  }
 },
 "nbformat": 4,
 "nbformat_minor": 0
}
