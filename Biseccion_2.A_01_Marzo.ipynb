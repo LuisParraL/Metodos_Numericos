{
 "cells": [
  {
   "cell_type": "code",
   "execution_count": 14,
   "metadata": {
    "collapsed": false
   },
   "outputs": [
    {
     "name": "stdout",
     "output_type": "stream",
     "text": [
      "|   Iteracion |     Raiz |        Et |\n",
      "|-------------+----------+-----------|\n",
      "|           0 | 0.5      | 11.8321   |\n",
      "|           1 | 0.75     | 32.2518   |\n",
      "|           2 | 0.625    | 10.2098   |\n",
      "|           3 | 0.5625   |  0.811144 |\n",
      "|           4 | 0.59375  |  4.69935  |\n",
      "|           5 | 0.578125 |  1.9441   |\n",
      "|           6 | 0.570312 |  0.566479 |\n",
      "|           7 | 0.566406 |  0.122333 |\n",
      "|           8 | 0.568359 |  0.222073 |\n",
      "|           9 | 0.567383 |  0.04987  |\n"
     ]
    }
   ],
   "source": [
    "import math\n",
    "from tabulate import tabulate\n",
    "f,t,xu,xl,fc1,fc2,tab=[],[],1.0,0.0,1,1,[]    \n",
    "def funcion(num):\n",
    "    fxb=(math.exp(-num)-num)\n",
    "    return fxb\n",
    "i=0\n",
    "while ((fc1*fc2)!=0):\n",
    "    xr=(xl+xu)/2\n",
    "    fc1=funcion(xl)\n",
    "    fc2=funcion(xr)\n",
    "    if ((fc1*fc2)<0):\n",
    "        xu=xr\n",
    "    if((fc1*fc2)>0):\n",
    "        xl=xr\n",
    "    Erpv=math.fabs(((0.5671-xr)/0.5671)*100)\n",
    "    tab.append([i,xr, Erpv])\n",
    "    i+=1\n",
    "    if (i==10):\n",
    "        break\n",
    "print tabulate(tab,headers=[\"Iteracion\", \"Raiz\", \"Et\"],tablefmt='orgtbl')"
   ]
  }
 ],
 "metadata": {
  "kernelspec": {
   "display_name": "Python 2",
   "language": "python",
   "name": "python2"
  },
  "language_info": {
   "codemirror_mode": {
    "name": "ipython",
    "version": 2
   },
   "file_extension": ".py",
   "mimetype": "text/x-python",
   "name": "python",
   "nbconvert_exporter": "python",
   "pygments_lexer": "ipython2",
   "version": "2.7.11"
  }
 },
 "nbformat": 4,
 "nbformat_minor": 0
}
