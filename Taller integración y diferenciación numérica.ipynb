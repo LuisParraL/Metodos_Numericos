{
 "cells": [
  {
   "cell_type": "code",
   "execution_count": 3,
   "metadata": {
    "collapsed": false
   },
   "outputs": [
    {
     "name": "stdout",
     "output_type": "stream",
     "text": [
      "Punto desde el que iniciara la integracion: 0\n",
      "Punto en el que terminara la integracion: 0.8\n",
      "integral con regla de trapecio de un segmento :  0.1728\n"
     ]
    }
   ],
   "source": [
    "#1) 21.1\n",
    "a = float(raw_input(\"Punto desde el que iniciara la integracion: \"))\n",
    "b = float(raw_input(\"Punto en el que terminara la integracion: \"))\n",
    "\n",
    "def evaluar(x):\n",
    "    f = 0.2 + 25*x - 200*x**2 + 675*x**3 - 900*x**4 + 400*x**5\n",
    "    return f\n",
    "\n",
    "def trapecio(h,f0,f1):\n",
    "    trap = h*(f0+f1)/2\n",
    "    return trap\n",
    "\n",
    "print \"integral con regla de trapecio de un segmento : \",trapecio(b-a,evaluar(a),evaluar(b))"
   ]
  },
  {
   "cell_type": "code",
   "execution_count": 4,
   "metadata": {
    "collapsed": false
   },
   "outputs": [
    {
     "name": "stdout",
     "output_type": "stream",
     "text": [
      "Ingrese el numero de segmentos: 2\n",
      "Ingrese el punto X0 = 0\n",
      "Ingrese el punto X1 = 0.4\n",
      "Ingrese el punto X2 = 0.8\n",
      "Integral con regla de trapecio con multiples segmentos :  1.0688\n"
     ]
    }
   ],
   "source": [
    "#1) 21.2\n",
    "f,x,n = [],[],0\n",
    "n = int(raw_input(\"Ingrese el numero de segmentos: \"))\n",
    "for k in range(n+1):\n",
    "    x.append(float(raw_input(\"Ingrese el punto X%d = \" %k)))\n",
    "    \n",
    "def evaluar(x):\n",
    "    f.append(0.2+25*x-200*x**2+675*x**3-900*x**4+400*x**5)\n",
    "    \n",
    "for j in range(n+1):\n",
    "    evaluar(x[j])\n",
    "\n",
    "def multiplesegm(h,n,f):\n",
    "    suma = f[0]\n",
    "    for i in range(n-1):\n",
    "        suma = suma + 2 * f[i+1]\n",
    "    suma = suma + f[n]\n",
    "    trapm = h * (suma/(2*n))\n",
    "    return trapm\n",
    "h = (x[n]-x[0])\n",
    "\n",
    "print \"Integral con regla de trapecio con multiples segmentos : \",multiplesegm(h,n,f)"
   ]
  },
  {
   "cell_type": "code",
   "execution_count": 5,
   "metadata": {
    "collapsed": false
   },
   "outputs": [
    {
     "name": "stdout",
     "output_type": "stream",
     "text": [
      "Integral con regla de trapecio de un segmento :  0.1728\n"
     ]
    }
   ],
   "source": [
    "#2\n",
    "a,b = 0,0.8\n",
    "def evaluar(x):\n",
    "    f = 0.2 + 25*x - 200*x**2 + 675*x**3 - 900*x**4 + 400*x**5\n",
    "    return f\n",
    "\n",
    "def trapecio(h,f0,f1):\n",
    "    trap = h*(f0+f1)/2\n",
    "    return trap\n",
    "\n",
    "print \"Integral con regla de trapecio de un segmento : \",trapecio(b-a,evaluar(a),evaluar(b))"
   ]
  },
  {
   "cell_type": "code",
   "execution_count": 6,
   "metadata": {
    "collapsed": false
   },
   "outputs": [
    {
     "name": "stdout",
     "output_type": "stream",
     "text": [
      "Integral con regla de trapecio con multiples segmentos :  1.0688\n"
     ]
    }
   ],
   "source": [
    "#2\n",
    "f,n = [],2\n",
    "x = [0.0,0.4,0.8]\n",
    " \n",
    "def evaluar(x):\n",
    "    f.append(0.2+25*x-200*x**2+675*x**3-900*x**4+400*x**5)\n",
    "    \n",
    "for j in range(n+1):\n",
    "    evaluar(x[j])\n",
    "\n",
    "def multiplesegm(h,n,f):\n",
    "    suma = f[0]\n",
    "    for i in range(n-1):\n",
    "        suma = suma + 2 * f[i+1]\n",
    "    suma = suma + f[n]\n",
    "    trapm = h * (suma/(2*n))\n",
    "    return trapm\n",
    "h = (x[n]-x[0])\n",
    "\n",
    "print \"Integral con regla de trapecio con multiples segmentos : \",multiplesegm(h,n,f)"
   ]
  },
  {
   "cell_type": "code",
   "execution_count": 7,
   "metadata": {
    "collapsed": false
   },
   "outputs": [
    {
     "name": "stdout",
     "output_type": "stream",
     "text": [
      "Punto donde iniciara la integracion: 0\n",
      "Punto donde terminara la integracion: 0.8\n",
      "Integracion con regla de Simpson 1/3 con un segmento:  1.36746666667\n"
     ]
    }
   ],
   "source": [
    "#3) regla Simpson 1/3\n",
    "f = 0.0\n",
    "a = float(raw_input(\"Punto donde iniciara la integracion: \"))\n",
    "b = float(raw_input(\"Punto donde terminara la integracion: \"))\n",
    "\n",
    "def evaluar(x):\n",
    "    f = 0.2+25*x-200*x**2+675*x**3-900*x**4+400*x**5\n",
    "    return f\n",
    "    \n",
    "fx0 = evaluar(a)\n",
    "fx1 = evaluar((a+b)/2)\n",
    "fx2 = evaluar(b)\n",
    "\n",
    "def simtercio(h,fx0,fx1,fx2):\n",
    "    simp13 = h*(fx0+4*fx1+fx2)/6\n",
    "    return simp13\n",
    "\n",
    "print \"Integracion con regla de Simpson 1/3 con un segmento: \",simtercio(b-a,fx0,fx1,fx2) "
   ]
  },
  {
   "cell_type": "code",
   "execution_count": 9,
   "metadata": {
    "collapsed": false
   },
   "outputs": [
    {
     "name": "stdout",
     "output_type": "stream",
     "text": [
      "Ingrese el numero de segmentos: 5\n",
      "Ingrese el punto X0 = 0\n",
      "Ingrese el punto X1 = 0.16\n",
      "Ingrese el punto X2 = 0.32\n",
      "Ingrese el punto X3 = 0.48\n",
      "Ingrese el punto X4 = 0.64\n",
      "Ingrese el punto X5 = 0.80\n",
      "Integracion con regla de Simpson 1/3 con multiples segmentos :  1.165361152\n"
     ]
    }
   ],
   "source": [
    "#3 regla Simpson 1/3 multiple\n",
    "f,n,x = [],0,[]\n",
    "n = int(raw_input(\"Ingrese el numero de segmentos: \"))\n",
    "\n",
    "for k in range(n+1):\n",
    "    x.append(float(raw_input(\"Ingrese el punto X%d = \" %k)))\n",
    "\n",
    "def evaluar(x):\n",
    "    f.append(0.2+25*x-200*x**2+675*x**3-900*x**4+400*x**5)\n",
    "    \n",
    "for j in range(n+1):\n",
    "    evaluar(x[j])\n",
    "h = x[n]-x[0]\n",
    "def simp13m(h,n,f):\n",
    "    suma = f[0]\n",
    "    i = 1\n",
    "    while (i<=n-1):\n",
    "        suma = suma + 4*f[i]       \n",
    "        i = i+2\n",
    "    j = 2\n",
    "    while (j<=n-2):\n",
    "        suma = suma + 2*f[j]  \n",
    "        j = j+2\n",
    "    suma = suma + f[n]\n",
    "    simp13 = h*(suma/(3*n))\n",
    "    return simp13\n",
    "\n",
    "print \"Integracion con regla de Simpson 1/3 con multiples segmentos : \",simp13m(h,n,f)"
   ]
  },
  {
   "cell_type": "code",
   "execution_count": 10,
   "metadata": {
    "collapsed": false
   },
   "outputs": [
    {
     "name": "stdout",
     "output_type": "stream",
     "text": [
      "Integracion con regla de Simpson 1/3 con un segmento:  1.36746666667\n"
     ]
    }
   ],
   "source": [
    "#4\n",
    "a,b,f = 0,0.8,0.0\n",
    "\n",
    "def evaluar(x):\n",
    "    f = 0.2+25*x-200*x**2+675*x**3-900*x**4+400*x**5\n",
    "    return f\n",
    "   \n",
    "fx0 = evaluar(a)\n",
    "fx1 = evaluar((a+b)/2)\n",
    "fx2 = evaluar(b)\n",
    "\n",
    "def simtercio(h,fx0,fx1,fx2):\n",
    "    simp13 = h*(fx0+4*fx1+fx2)/6\n",
    "    return simp13\n",
    "\n",
    "print \"Integracion con regla de Simpson 1/3 con un segmento: \",simtercio(b-a,fx0,fx1,fx2)"
   ]
  },
  {
   "cell_type": "code",
   "execution_count": 11,
   "metadata": {
    "collapsed": false
   },
   "outputs": [
    {
     "name": "stdout",
     "output_type": "stream",
     "text": [
      "Integracion con regla de Simpson 1/3 con multiples segmentos :  1.62346666667\n"
     ]
    }
   ],
   "source": [
    "#4\n",
    "f,n,x = [],4,[]\n",
    "x = [0,0.2,0.4,0.6,0.8]\n",
    "\n",
    "def evaluar(x):\n",
    "    f.append(0.2+25*x-200*x**2+675*x**3-900*x**4+400*x**5)\n",
    "    \n",
    "for j in range(n+1):\n",
    "    evaluar(x[j])\n",
    "h = x[n]-x[0]\n",
    "\n",
    "def simp13m(h,n,f):\n",
    "    suma = f[0]\n",
    "    i = 1\n",
    "    while (i<=n-1):\n",
    "        suma = suma + 4*f[i]       \n",
    "        i = i+2\n",
    "    j = 2\n",
    "    while (j<=n-2):\n",
    "        suma = suma + 2*f[j]  \n",
    "        j = j+2\n",
    "    suma = suma + f[n]\n",
    "    simp13 = h*(suma/(3*n))\n",
    "    return simp13\n",
    "    \n",
    "\n",
    "print \"Integracion con regla de Simpson 1/3 con multiples segmentos : \",simp13m(h,n,f)"
   ]
  },
  {
   "cell_type": "code",
   "execution_count": 12,
   "metadata": {
    "collapsed": false
   },
   "outputs": [
    {
     "name": "stdout",
     "output_type": "stream",
     "text": [
      "Punto donde iniciara la integracion: 0\n",
      "Punto donde terminara la integracion: 0.8\n",
      "Integracion con regla de Simpson 3/8 con un segmento:  1.51917037037\n"
     ]
    }
   ],
   "source": [
    "#5\n",
    "f = 0.0\n",
    "a = float(raw_input(\"Punto donde iniciara la integracion: \"))\n",
    "b = float(raw_input(\"Punto donde terminara la integracion: \"))\n",
    "\n",
    "def evaluar(x):\n",
    "    f = 0.2+25*x-200*x**2+675*x**3-900*x**4+400*x**5\n",
    "    return f\n",
    "   \n",
    "fx0 = evaluar(a)\n",
    "fx1 = evaluar((a+b)/3)\n",
    "fx2 = evaluar(((a+b)/3+b)/2)\n",
    "fx3 = evaluar(b)\n",
    "    \n",
    "def simp3octavos(h,fx0,fx1,fx2,fx3):\n",
    "    simp13 = h*(fx0+3*fx1+3*fx2+fx3)/8\n",
    "    return simp13\n",
    "\n",
    "print \"Integracion con regla de Simpson 3/8 con un segmento: \",simp3octavos(b-a,fx0,fx1,fx2,fx3)"
   ]
  },
  {
   "cell_type": "code",
   "execution_count": 13,
   "metadata": {
    "collapsed": false
   },
   "outputs": [
    {
     "name": "stdout",
     "output_type": "stream",
     "text": [
      "Implementación Simpson 3/8 para un segmento -> 1.519170.\n",
      "Implementación Simpson 3/8 para múltiples segmentos -> 1.645077.\n"
     ]
    }
   ],
   "source": [
    "#5\n",
    "import math \n",
    "sum=0\n",
    "def function(x):\n",
    "    fx=0.2+(25*x)-(200*(math.pow(x,2)))+(675*(math.pow(x,3)))-(900*(math.pow(x,4)))+(400*(math.pow(x,5)))\n",
    "    return fx\n",
    "\n",
    "def vector():\n",
    "    j,k=0,0\n",
    "    global aux,aux2\n",
    "    aux=[]\n",
    "    aux2=[]\n",
    "    while j<1.0:\n",
    "        aux.append(function(j))\n",
    "        j+=0.8/3\n",
    "    while k<=0.8:\n",
    "        aux2.append(function(k))\n",
    "        k+=0.8/5\n",
    "        \n",
    "def Simp38(h,f0,f1,f2,f3):\n",
    "    simp38=3*h*(f0+3*(f1+f2)+f3)/8\n",
    "    return simp38\n",
    "\n",
    "def trap(h,f0,f1):\n",
    "    value=h*(f0+f1)/2\n",
    "    return value\n",
    "\n",
    "def simp13m(h,n,f):\n",
    "    sum=function(0)\n",
    "    for i in range (1,n-1,2):\n",
    "        sum=sum+4*f[i]+2*f[i+1]\n",
    "    sum=sum+4*f[n-1]+f[n]\n",
    "    Simp13m=h*sum/3\n",
    "    return Simp13m\n",
    "\n",
    "def SimpInt(a,b,n,f):\n",
    "    sum1=0\n",
    "    h=(b-a)/n\n",
    "    if n==1:\n",
    "        sum1=trap(h,f[n-1],f[n])\n",
    "    else:\n",
    "        m=n*1.0\n",
    "        odd=(n*1.0/2)-int(n*1.0/2)\n",
    "        if (odd>0 and n>1):\n",
    "            sum1=sum1+Simp38(h,f[n-3],f[n-2],f[n-1],f[n])\n",
    "            m=n-3\n",
    "        if(m>1):\n",
    "            sum1=sum1+simp13m(h,m,f)\n",
    "    simpint=sum1\n",
    "    return simpint\n",
    "\n",
    "vector()\n",
    "print \"Implementación Simpson 3/8 para un segmento -> %.6f.\"%(Simp38(0.8/3,aux[0],aux[1],aux[2],aux[3]))\n",
    "print \"Implementación Simpson 3/8 para múltiples segmentos -> %.6f.\"%(SimpInt(0.0,0.8,5,aux2))"
   ]
  },
  {
   "cell_type": "code",
   "execution_count": 15,
   "metadata": {
    "collapsed": false
   },
   "outputs": [
    {
     "name": "stdout",
     "output_type": "stream",
     "text": [
      "Ingrese el punto en el cual quiere estimar la derivada: 0.5\n",
      "Ingrese el tama~o de paso: 0.25\n",
      "Primera derivada:  -1.1546875\n",
      "Primera derivada con mas terminos:  -0.859375\n",
      "Segunda derivada:  -2.3625\n",
      "Segunda derivada con mas terminos:  -1.6125\n",
      "Tercera derivada:  -3.0\n",
      "Tercera derivada con mas terminos:  -2.1\n",
      "Cuarta derivada:  -2.4\n",
      "Cuarta derivada con mas terminos:  -2.4\n"
     ]
    }
   ],
   "source": [
    "#6) 23.1\n",
    "x = float(raw_input(\"Ingrese el punto en el cual quiere estimar la derivada: \"))\n",
    "h = float(raw_input(\"Ingrese el tama~o de paso: \"))\n",
    "\n",
    "def fun(X):\n",
    "    f = -0.1*X**4-0.15*X**3-0.5*X**2-0.25*X+1.2\n",
    "    return f\n",
    "\n",
    "xi = fun(x)\n",
    "xi1 = fun(x+h)\n",
    "xi2 = fun(x+2*h)\n",
    "xi3 = fun(x+3*h)\n",
    "xi4 = fun(x+4*h)\n",
    "xi5 = fun(x+5*h)\n",
    "\n",
    "def primeraDerivada():\n",
    "    df1 = (xi1-xi)/h\n",
    "    df2 = (-xi2+4*xi1-3*xi)/(2*h)\n",
    "    print \"Primera derivada: \",df1\n",
    "    print \"Primera derivada con mas terminos: \",df2\n",
    "def segundaDerivada():\n",
    "    d2f1 = (xi2-2*xi1+xi)/h**2\n",
    "    d2f2 = (-xi3+4*xi2-5*xi1+2*xi)/h**2\n",
    "    print \"Segunda derivada: \",d2f1\n",
    "    print \"Segunda derivada con mas terminos: \",d2f2\n",
    "def terceraDerivada():\n",
    "    d3f1 = (xi3-3*xi2+3*xi1-xi)/h**3\n",
    "    d3f2 = (-3*xi4+14*xi3-24*xi2+18*xi1-5*xi)/(2*h**3)\n",
    "    print \"Tercera derivada: \",d3f1\n",
    "    print \"Tercera derivada con mas terminos: \",d3f2\n",
    "def cuartaDerivada():\n",
    "    d4f1 = (xi4-4*xi3+6*xi2-4*xi1+xi)/h**4\n",
    "    d4f2 = (-2*xi5+11*xi4-24*xi3+26*xi2-14*xi1+3*xi)/h**4\n",
    "    print \"Cuarta derivada: \",d4f1\n",
    "    print \"Cuarta derivada con mas terminos: \",d4f2\n",
    "primeraDerivada()\n",
    "segundaDerivada()\n",
    "terceraDerivada()\n",
    "cuartaDerivada()"
   ]
  },
  {
   "cell_type": "code",
   "execution_count": 16,
   "metadata": {
    "collapsed": false
   },
   "outputs": [
    {
     "name": "stdout",
     "output_type": "stream",
     "text": [
      "Ingrese el valor en el cual quiere estimar la derivada: 0.5\n",
      "Ingrese el tama~o de paso: 0.25\n",
      "Primera derivada:  -0.7140625\n",
      "Primera derivada con mas terminos:  -0.878125\n",
      "Segunda derivada:  -1.3125\n",
      "Segunda derivada con mas terminos:  -1.6125\n",
      "Tercera derivada:  -1.2\n",
      "Tercera derivada con mas terminos:  -2.1\n",
      "Cuarta derivada:  -2.4\n",
      "Cuarta derivada con mas terminos:  -2.4\n"
     ]
    }
   ],
   "source": [
    "#6) 23.2\n",
    "x = float(raw_input(\"Ingrese el valor en el cual quiere estimar la derivada: \"))\n",
    "h = float(raw_input(\"Ingrese el tama~o de paso: \"))\n",
    "\n",
    "def fun(X):\n",
    "    f = -0.1*X**4-0.15*X**3-0.5*X**2-0.25*X+1.2\n",
    "    return f\n",
    "\n",
    "xi = fun(x)\n",
    "xi1 = fun(x-h)\n",
    "xi2 = fun(x-2*h)\n",
    "xi3 = fun(x-3*h)\n",
    "xi4 = fun(x-4*h)\n",
    "xi5 = fun(x-5*h)\n",
    "\n",
    "def primeraDerivada():\n",
    "    df1 = (xi-xi1)/h\n",
    "    df2 = (3*xi-4*xi1+xi2)/(2*h)\n",
    "    print \"Primera derivada: \",df1\n",
    "    print \"Primera derivada con mas terminos: \",df2\n",
    "def segundaDerivada():\n",
    "    d2f1 = (xi-2*xi1+xi2)/h**2\n",
    "    d2f2 = (2*xi-5*xi1+4*xi2-xi3)/h**2\n",
    "    print \"Segunda derivada: \",d2f1\n",
    "    print \"Segunda derivada con mas terminos: \",d2f2\n",
    "def terceraDerivada():\n",
    "    d3f1 = (xi-3*xi1+3*xi2-xi3)/h**3\n",
    "    d3f2 = (5*xi-18*xi1+24*xi2-14*xi3+3*xi4)/(2*h**3)\n",
    "    print \"Tercera derivada: \",d3f1\n",
    "    print \"Tercera derivada con mas terminos: \",d3f2\n",
    "def cuartaDerivada():\n",
    "    d4f1 = (xi-4*xi1+6*xi2-4*xi3+xi4)/h**4\n",
    "    d4f2 = (3*xi-14*xi1+26*xi2-24*xi3+11*xi4-2*xi5)/h**4\n",
    "    print \"Cuarta derivada: \",d4f1\n",
    "    print \"Cuarta derivada con mas terminos: \",d4f2\n",
    "primeraDerivada()\n",
    "segundaDerivada()\n",
    "terceraDerivada()\n",
    "cuartaDerivada()"
   ]
  },
  {
   "cell_type": "code",
   "execution_count": 17,
   "metadata": {
    "collapsed": false
   },
   "outputs": [
    {
     "name": "stdout",
     "output_type": "stream",
     "text": [
      "Ingrese el valor en el cual quiere estimar la derivada: 0.5\n",
      "Ingrese el tama~o de paso: 0.25\n",
      "Primera derivada:  -0.934375\n",
      "Primera derivada con mas terminos:  -0.9125\n",
      "Segunda derivada:  -1.7625\n",
      "Segunda derivada con mas terminos:  -1.75\n",
      "Tercera derivada:  -2.1\n",
      "Tercera derivada con mas terminos:  -15.4125\n",
      "Cuarta derivada:  -2.4\n",
      "Cuarta derivada con mas terminos:  2149.53333333\n"
     ]
    }
   ],
   "source": [
    "#6) 23.3\n",
    "x = float(raw_input(\"Ingrese el valor en el cual quiere estimar la derivada: \"))\n",
    "h = float(raw_input(\"Ingrese el tama~o de paso: \"))\n",
    "\n",
    "def fun(X):\n",
    "    f = -0.1*X**4-0.15*X**3-0.5*X**2-0.25*X+1.2\n",
    "    return f\n",
    "\n",
    "xi = fun(x)\n",
    "xi1 = fun(x+h)\n",
    "xi2 = fun(x+2*h)\n",
    "xi_1 = fun(x-h)\n",
    "xi_2 = fun(x-2*h)\n",
    "xi_3 = fun(x-3*h)\n",
    "\n",
    "def primeraDerivada():\n",
    "    df1 = (xi1-xi_1)/(2*h)\n",
    "    df2 = (-xi2+8*xi1-8*xi_1+xi_2)/(12*h)\n",
    "    print \"Primera derivada: \",df1\n",
    "    print \"Primera derivada con mas terminos: \",df2\n",
    "def segundaDerivada():\n",
    "    d2f1 = (xi1-2*xi+xi_1)/h**2\n",
    "    d2f2 = (-xi2+16*xi1-30*xi+16*xi_1-xi_2)/(12*h**2)\n",
    "    print \"Segunda derivada: \",d2f1\n",
    "    print \"Segunda derivada con mas terminos: \",d2f2\n",
    "def terceraDerivada():\n",
    "    d3f1 = (xi2-2*xi1+2*xi_1-xi_2)/(2*h**3)\n",
    "    d3f2 = (-xi3+8*xi2-13*xi1+13*xi_1-8*xi_2+xi_3)/(8*h**3)\n",
    "    print \"Tercera derivada: \",d3f1\n",
    "    print \"Tercera derivada con mas terminos: \",d3f2\n",
    "def cuartaDerivada():\n",
    "    d4f1 = (xi2-4*xi1+6*xi-4*xi_1+xi_2)/h**4\n",
    "    d4f2 = (-xi3+12*xi2+39*xi1+56*xi-39*xi_1+12*xi_2+xi_3)/(6*h**4)\n",
    "    print \"Cuarta derivada: \",d4f1\n",
    "    print \"Cuarta derivada con mas terminos: \",d4f2\n",
    "primeraDerivada()\n",
    "segundaDerivada()\n",
    "terceraDerivada()\n",
    "cuartaDerivada()"
   ]
  },
  {
   "cell_type": "code",
   "execution_count": 18,
   "metadata": {
    "collapsed": false
   },
   "outputs": [
    {
     "name": "stdout",
     "output_type": "stream",
     "text": [
      "Valor real de la primera derivada es=  -0.9125\n",
      "\n",
      "Usando diferencias divididas finitas de exactitud O(h):\n",
      "\n",
      "|            |   Hacia adelante O(h) |   Hacia atras O(h) |   Centrada O(h^2) |\n",
      "|------------+-----------------------+--------------------+-------------------|\n",
      "| Estimacion |                -1.155 |             -0.714 |            -0.934 |\n",
      "| Et(%)      |                26.541 |             21.747 |             2.397 |\n",
      "\n",
      "Usando diferencias divididas finitas de exactitud O(h^2):\n",
      "\n",
      "|            |   Hacia adelante O(h^2) |   Hacia atras O(h^2) |   Centrada O(h^4) |\n",
      "|------------+-------------------------+----------------------+-------------------|\n",
      "| Estimacion |                 -0.8594 |              -0.8781 |           -0.9125 |\n",
      "| Et(%)      |                  5.8219 |               3.7671 |            0.0000 |\n"
     ]
    }
   ],
   "source": [
    "#7\n",
    "import math\n",
    "from tabulate import tabulate\n",
    "\n",
    "xi,h=0.5,0.25\n",
    "x,fun,tabla,tabla2,titulo=[],[],[],[],[\"Estimacion\",\"Et(%)\"]\n",
    "aux1,aux2,aux3,aux4,aux5,aux6=[],[],[],[],[],[]\n",
    "\n",
    "def function(x):\n",
    "    fx=(-0.1*math.pow(x,4))-(0.15*math.pow(x,3))-(0.5*math.pow(x,2))-(0.25*x)+1.2\n",
    "    return fx\n",
    "\n",
    "def functionDer(x):\n",
    "    fx=(-4*0.1*math.pow(x,3))-(3*0.15*math.pow(x,2))-(2*0.5*x)-(0.25)\n",
    "    return fx\n",
    "\n",
    "def error(aprx):\n",
    "    e=math.fabs((functionDer(xi)-aprx)*100/functionDer(xi))\n",
    "    return e\n",
    "\n",
    "def llenar():\n",
    "    z=0\n",
    "    while (z<=1.0):\n",
    "        fun.append(function(z))\n",
    "        z+=h\n",
    "    haciaAdelante()\n",
    "    haciaAtras()\n",
    "    centrada()\n",
    "    \n",
    "def haciaAdelante():\n",
    "    f1=(fun[3]-fun[2])/h\n",
    "    f2=(-fun[4]+4*fun[3]-3*fun[2])/(2*h)\n",
    "    aux1.append(f1)\n",
    "    aux1.append(error(f1))\n",
    "    aux2.append(f2)\n",
    "    aux2.append(error(f2))\n",
    "\n",
    "def haciaAtras():\n",
    "    f1=(fun[2]-fun[1])/h\n",
    "    f2=(3*fun[2]-4*fun[1]+fun[0])/(2*h)\n",
    "    aux3.append(f1)\n",
    "    aux3.append(error(f1))\n",
    "    aux4.append(f2)\n",
    "    aux4.append(error(f2))\n",
    "\n",
    "def centrada():\n",
    "    f1=(fun[3]-fun[1])/(2*h)\n",
    "    f2=(-fun[4]+8*fun[3]-8*fun[1]+fun[0])/(12*h)\n",
    "    aux5.append(f1)\n",
    "    aux5.append(error(f1))\n",
    "    aux6.append(f2)\n",
    "    aux6.append(error(f2))\n",
    "\n",
    "def tabular():\n",
    "    for i in range (2):\n",
    "        tabla.append([titulo[i],aux1[i],aux3[i],aux5[i]])\n",
    "        tabla2.append([titulo[i],aux2[i],aux4[i],aux6[i]])\n",
    "    \n",
    "llenar()\n",
    "print \"Valor real de la primera derivada es= \", functionDer(xi)\n",
    "tabular()\n",
    "print \"\\nUsando diferencias divididas finitas de exactitud O(h):\\n\"\n",
    "print tabulate(tabla,headers=[\" \",\"Hacia adelante O(h)\", \"Hacia atras O(h)\", \"Centrada O(h^2)\"],tablefmt=\"orgtbl\",floatfmt=\".3f\")\n",
    "print \"\\nUsando diferencias divididas finitas de exactitud O(h^2):\\n\"\n",
    "print tabulate(tabla2,headers=[\" \",\"Hacia adelante O(h^2)\", \"Hacia atras O(h^2)\", \"Centrada O(h^4)\"],tablefmt=\"orgtbl\",floatfmt=\".4f\")"
   ]
  }
 ],
 "metadata": {
  "kernelspec": {
   "display_name": "Python 2",
   "language": "python",
   "name": "python2"
  },
  "language_info": {
   "codemirror_mode": {
    "name": "ipython",
    "version": 2
   },
   "file_extension": ".py",
   "mimetype": "text/x-python",
   "name": "python",
   "nbconvert_exporter": "python",
   "pygments_lexer": "ipython2",
   "version": "2.7.11"
  }
 },
 "nbformat": 4,
 "nbformat_minor": 0
}
