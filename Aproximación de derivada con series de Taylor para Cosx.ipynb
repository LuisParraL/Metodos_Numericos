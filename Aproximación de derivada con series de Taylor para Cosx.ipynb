{
 "cells": [
  {
   "cell_type": "code",
   "execution_count": 3,
   "metadata": {
    "collapsed": false
   },
   "outputs": [
    {
     "name": "stdout",
     "output_type": "stream",
     "text": [
      "|   Orden n |    f^n(x) |   f(pi/3)   |            Et |\n",
      "|-----------+-----------+-------------+---------------|\n",
      "|         0 |  0.707107 |    0.707107 | -41.4214      |\n",
      "|         1 | -0.707107 |    0.521987 |  -4.39733     |\n",
      "|         2 | -0.707107 |    0.497754 |   0.449102    |\n",
      "|         3 |  0.707107 |    0.499869 |   0.0261706   |\n",
      "|         4 |  0.707107 |    0.500008 |  -0.00151016  |\n",
      "|         5 | -0.707107 |    0.5      |  -6.08001e-05 |\n",
      "|         6 | -0.707107 |    0.5      |   2.44027e-06 |\n"
     ]
    }
   ],
   "source": [
    "import math\n",
    "from tabulate import tabulate\n",
    "\n",
    "fx, tab, h,x,vv = [], [],math.pi/12,math.pi/4,0.5\n",
    "\n",
    "fx.append(math.cos(x))\n",
    "fx.append(-math.sin(x))\n",
    "fx.append(-math.cos(x))\n",
    "fx.append(math.sin(x))\n",
    "fx.append(math.cos(x))\n",
    "fx.append(-math.sin(x))\n",
    "fx.append(-math.cos(x))\n",
    "\n",
    "n,fac,aux = 0,0,0.0\n",
    "\n",
    "while n<7:\n",
    "    if (n==0):\n",
    "        f = fx[n]/math.factorial(n)\n",
    "    else:\n",
    "        f = (fx[n]/math.factorial(n))*math.pow(h,n)\n",
    "    aux = aux + f\n",
    "    Ev=math.fabs(vv-aux)\n",
    "    Erpv=(Ev/aux)*100\n",
    "    Et = ((vv-aux)/vv)*100\n",
    "    tab.append([n,fx[n],aux,Et])\n",
    "    n = n+1\n",
    "print tabulate (tab,headers=[\"Orden n\", \"f^n(x)\",\"f(pi/3)  \", \"Et\"], tablefmt=\"orgtbl\")"
   ]
  },
  {
   "cell_type": "code",
   "execution_count": null,
   "metadata": {
    "collapsed": true
   },
   "outputs": [],
   "source": []
  }
 ],
 "metadata": {
  "kernelspec": {
   "display_name": "Python 2",
   "language": "python",
   "name": "python2"
  },
  "language_info": {
   "codemirror_mode": {
    "name": "ipython",
    "version": 2
   },
   "file_extension": ".py",
   "mimetype": "text/x-python",
   "name": "python",
   "nbconvert_exporter": "python",
   "pygments_lexer": "ipython2",
   "version": "2.7.11"
  }
 },
 "nbformat": 4,
 "nbformat_minor": 0
}
