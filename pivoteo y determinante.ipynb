{
 "cells": [
  {
   "cell_type": "code",
   "execution_count": null,
   "metadata": {
    "collapsed": false
   },
   "outputs": [],
   "source": [
    "m,r,x,n,det,factor = [],[],[],0,1.0,0.0\n",
    "n = int(raw_input(\"Ingrese el numero de incognitas: \" ))\n",
    "\n",
    "for z in range(0,n):\n",
    "    m.append([0.0]*n)\n",
    "\n",
    "for i in range(0,n):\n",
    "    k=i+1\n",
    "    r.append(float(raw_input(\"Ingrese el elemento %d del vector solucion: \"%k)))\n",
    "    x.insert(i,0.0)\n",
    "    for j in range(0,n):\n",
    "        h = j+1\n",
    "        m[i][j] = float(raw_input(\"Ingrese el elemento %d%d de la matriz: \" %(k,h)))\n",
    "        \n",
    "def pivoteParcial():\n",
    "    p,k=0,0\n",
    "    p=k\n",
    "    big = abs(m[k][k])\n",
    "    for i in range(k+1,n):\n",
    "        dummy = abs(m[i][k])\n",
    "        if (dummy>big):\n",
    "            big=dummy\n",
    "            p=i\n",
    "    if (p!=k):\n",
    "        for j in range(k,n):\n",
    "            dummy=m[p][j]\n",
    "            m[p][j]=m[k][j]\n",
    "            m[k][j]=dummy\n",
    "        dummy=r[p]\n",
    "        r[p]=r[k]\n",
    "        r[k]=dummy\n",
    "        \n",
    "def haciaAdelante():\n",
    "    for k in range(0,n-1):\n",
    "        for i in range(k+1,n):\n",
    "            factor = m[i][k]/m[k][k]\n",
    "            for j in range (k+1,n):\n",
    "                m[i][j]=m[i][j]-factor*m[k][j]\n",
    "            r[i]=r[i]-factor*r[k]\n",
    "def haciaAtras():\n",
    "    x[n-1]=r[n-1]/m[n-1][n-1]\n",
    "    i=n-1\n",
    "    while (i>=0):\n",
    "        y = r[i]\n",
    "        for j in range(i+1,n):\n",
    "            y=y-x[j]*m[i][j]\n",
    "        x[i]=y/m[i][i]\n",
    "        i -= 1\n",
    "    for i in range(0,n):\n",
    "        k=i+1\n",
    "        print \"\\nEl valor de X%d es %f\"%(k,x[i])\n",
    "        \n",
    "def deter():\n",
    "    det,d=1.0,0\n",
    "    det = m[d][d]*m[d+1][d+1]\n",
    "    for d in range(2,n):\n",
    "        det = det * m[d][d]\n",
    "    print \"\\nEl determinante es :  %f\"%det\n",
    "\n",
    "pivoteParcial()\n",
    "haciaAdelante()\n",
    "deter()\n",
    "haciaAtras()"
   ]
  },
  {
   "cell_type": "code",
   "execution_count": null,
   "metadata": {
    "collapsed": true
   },
   "outputs": [],
   "source": []
  }
 ],
 "metadata": {
  "kernelspec": {
   "display_name": "Python 2",
   "language": "python",
   "name": "python2"
  },
  "language_info": {
   "codemirror_mode": {
    "name": "ipython",
    "version": 2
   },
   "file_extension": ".py",
   "mimetype": "text/x-python",
   "name": "python",
   "nbconvert_exporter": "python",
   "pygments_lexer": "ipython2",
   "version": "2.7.11"
  }
 },
 "nbformat": 4,
 "nbformat_minor": 0
}
