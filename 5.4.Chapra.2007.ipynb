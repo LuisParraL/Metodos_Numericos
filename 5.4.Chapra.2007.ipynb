{
 "cells": [
  {
   "cell_type": "code",
   "execution_count": 28,
   "metadata": {
    "collapsed": false
   },
   "outputs": [
    {
     "name": "stdout",
     "output_type": "stream",
     "text": [
      "|   Iteracion |      Raiz |   Error Aprox.(%) |    Condicion |\n",
      "|-------------+-----------+-------------------+--------------|\n",
      "|           1 | -0.287425 |       100         | -131.249     |\n",
      "|           2 | -0.379449 |        24.252     |  -38.3675    |\n",
      "|           3 | -0.405232 |         6.36258   |  -10.451     |\n",
      "|           4 | -0.412173 |         1.68404   |   -2.79161   |\n",
      "|           5 | -0.414022 |         0.446417  |   -0.741781  |\n",
      "|           6 | -0.414512 |         0.118381  |   -0.196829  |\n",
      "|           7 | -0.414642 |         0.0313952 |   -0.0522086 |\n"
     ]
    }
   ],
   "source": [
    "import math\n",
    "from tabulate import tabulate\n",
    "import matplotlib.pyplot as plt\n",
    "Es=(0.5*math.pow(10,-1))\n",
    "t,z,fc1,fc2,xu,xl,tab,vv=[],[],1.0,1.0,0.0,-1.0,[],-0.4146\n",
    "i=-2\n",
    "while i<7:\n",
    "    fx=-12-21*math.pow(i,1)+18*math.pow(i,2)-2.75*math.pow(i,3)\n",
    "    t.append(i)\n",
    "    z.append(fx)\n",
    "    i+=1\n",
    "    \n",
    "def funcion (num):\n",
    "    fx=-12-21*math.pow(num,1)+18*math.pow(num,2)-2.75*math.pow(num,3)\n",
    "    return fx\n",
    "\n",
    "i=0\n",
    "xr=0\n",
    "while (fc1*fc2)!=0:\n",
    "    xra=xr\n",
    "    f2=funcion(xu)\n",
    "    f1=funcion(xl)\n",
    "    xr=xu-(f2*(xl-xu))/(f1-f2)\n",
    "    fc1=funcion(xl)\n",
    "    fc2=funcion(xr)\n",
    "    if ((fc1*fc2)<0):\n",
    "        xu=xr\n",
    "    if ((fc1*fc2)>0):\n",
    "        xl=xr\n",
    "    i+=1\n",
    "    Ea=math.fabs(((xr-xra)/xr)*100)\n",
    "    tab.append([i,xr,Ea,fc1*fc2])\n",
    "    if (Ea<Es):\n",
    "        break    \n",
    "print tabulate (tab,headers=[\"Iteracion\", \"Raiz\", \"Error Aprox.(%)\", \"Condicion\"],tablefmt='orgtbl')\n",
    "plt.plot(t,z)\n",
    "plt.plot(vv,0, 'cs', label='Raiz Exacta=-0.4146')\n",
    "plt.legend(loc = 'upper right', numpoints = 1)\n",
    "plt.xlabel('x')\n",
    "plt.ylabel('f(x)')\n",
    "plt.grid(True)\n",
    "plt.show()"
   ]
  }
 ],
 "metadata": {
  "kernelspec": {
   "display_name": "Python 2",
   "language": "python",
   "name": "python2"
  },
  "language_info": {
   "codemirror_mode": {
    "name": "ipython",
    "version": 2
   },
   "file_extension": ".py",
   "mimetype": "text/x-python",
   "name": "python",
   "nbconvert_exporter": "python",
   "pygments_lexer": "ipython2",
   "version": "2.7.11"
  }
 },
 "nbformat": 4,
 "nbformat_minor": 0
}
