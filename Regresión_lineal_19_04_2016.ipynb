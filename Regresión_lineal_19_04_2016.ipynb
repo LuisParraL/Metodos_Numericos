{
 "cells": [
  {
   "cell_type": "code",
   "execution_count": 8,
   "metadata": {
    "collapsed": false
   },
   "outputs": [
    {
     "name": "stdout",
     "output_type": "stream",
     "text": [
      "|   xi |   yi |   (y-y~)^2 |   (yi-a0-a1*xi)^2 |\n",
      "|------+------+------------+-------------------|\n",
      "|    1 |  0.5 | 8.57653    |          0.168686 |\n",
      "|    2 |  2.5 | 0.862245   |          0.5625   |\n",
      "|    3 |  2   | 2.04082    |          0.347258 |\n",
      "|    4 |  4   | 0.326531   |          0.326531 |\n",
      "|    5 |  3.5 | 0.00510204 |          0.589605 |\n",
      "|    6 |  6   | 6.61224    |          0.797194 |\n",
      "|    7 |  5.5 | 4.29082    |          0.199298 |\n"
     ]
    },
    {
     "data": {
      "image/png": "[encoded data removed]",
      "text/plain": [
       "<matplotlib.figure.Figure at 0x6d47898>"
      ]
     },
     "metadata": {},
     "output_type": "display_data"
    }
   ],
   "source": [
    "import matplotlib.pyplot as plt\n",
    "from tabulate import tabulate\n",
    "%matplotlib inline\n",
    "xi=[1,2,3,4,5,6,7]\n",
    "yi=[0.5,2.5,2.0,4.0,3.5,6.0,5.5]\n",
    "tab=[]\n",
    "n=len(xi)\n",
    "mult, sum1,sumax,sumay,t,z=0,0,0,0,[],[]\n",
    "\n",
    "for i in range (n):\n",
    "    sumax+=xi[i]\n",
    "    sumay+=yi[i]\n",
    "    mult+=xi[i]*yi[i]\n",
    "    sum1+=xi[i]**2\n",
    "\n",
    "expo=sumax**2\n",
    "a1=(n*mult-(sumax*sumay))/(n*sum1-expo)\n",
    "xmedia=sumax/n\n",
    "ymedia=sumay/n\n",
    "a0=ymedia-(a1*xmedia)\n",
    "for j in range (n+1):\n",
    "    y=a0+a1*j\n",
    "    t.append(j)\n",
    "    z.append(y)\n",
    "    \n",
    "for k in range(n):\n",
    "    tab.append([xi[k],yi[k],((yi[k]-ymedia)**2),((yi[k]-a0-(a1*xi[k]))**2)])\n",
    "    \n",
    "print tabulate(tab,headers=[\"xi\", \"yi\",\"(y-y~)^2\",\"(yi-a0-a1*xi)^2\"],tablefmt='orgtbl')\n",
    "plt.plot(t,z, label='recta y=a0+a1*x')\n",
    "plt.plot(xi,yi, 'o', label='xi,yi')\n",
    "plt.xlabel('(x)')\n",
    "plt.ylabel('f(x)')\n",
    "plt.axis([0,7.5,0,6.5])\n",
    "plt.legend(loc='upper left', numpoints=1)\n",
    "plt.grid()\n",
    "plt.show()"
   ]
  },
  {
   "cell_type": "code",
   "execution_count": null,
   "metadata": {
    "collapsed": true
   },
   "outputs": [],
   "source": []
  }
 ],
 "metadata": {
  "kernelspec": {
   "display_name": "Python 2",
   "language": "python",
   "name": "python2"
  },
  "language_info": {
   "codemirror_mode": {
    "name": "ipython",
    "version": 2
   },
   "file_extension": ".py",
   "mimetype": "text/x-python",
   "name": "python",
   "nbconvert_exporter": "python",
   "pygments_lexer": "ipython2",
   "version": "2.7.11"
  }
 },
 "nbformat": 4,
 "nbformat_minor": 0
}
