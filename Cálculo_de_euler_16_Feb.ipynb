{
 "cells": [
  {
   "cell_type": "code",
   "execution_count": 1,
   "metadata": {
    "collapsed": false,
    "scrolled": false
   },
   "outputs": [
    {
     "name": "stdout",
     "output_type": "stream",
     "text": [
      "  Termino    Valor Aprox    Error Porc.    Error Aprox\n",
      "---------  -------------  -------------  -------------\n",
      "        1        1         39.3469        100\n",
      "        2        1.5        9.0204         33.3333\n",
      "        3        1.625      1.43877         7.69231\n",
      "        4        1.64583    0.175162        1.26582\n",
      "        5        1.64844    0.0172116       0.157978\n",
      "        6        1.6487     0.00141649      0.0157953\n",
      "        7        1.64872    0.000100238     0.00131626\n"
     ]
    }
   ],
   "source": [
    "from tabulate import tabulate\n",
    "import math\n",
    "x=0.5\n",
    "eulera=1\n",
    "tab=[]\n",
    "Es=0.5*math.pow(10,-2)\n",
    "eulera=0\n",
    "for j in range(0,40):\n",
    "    e=(math.pow(x,j))/math.factorial(j)\n",
    "    anterior=eulera\n",
    "    eulera = e + eulera\n",
    "    Ev=math.exp(x)-eulera\n",
    "    Er=(Ev/math.exp(x))*100\n",
    "    Ea=math.fabs(((eulera-anterior)/eulera)*100)\n",
    "    tab.append([j+1,eulera, Er, Ea])\n",
    "    j=j+1\n",
    "    if (Ea<Es):\n",
    "        break\n",
    "print tabulate(tab,headers=[\"Termino\", \"Valor Aprox\", \"Error Porc.\", \"Error Aprox\"])\n"
   ]
  },
  {
   "cell_type": "code",
   "execution_count": null,
   "metadata": {
    "collapsed": true
   },
   "outputs": [],
   "source": []
  },
  {
   "cell_type": "code",
   "execution_count": null,
   "metadata": {
    "collapsed": true
   },
   "outputs": [],
   "source": []
  }
 ],
 "metadata": {
  "kernelspec": {
   "display_name": "Python 2",
   "language": "python",
   "name": "python2"
  },
  "language_info": {
   "codemirror_mode": {
    "name": "ipython",
    "version": 2
   },
   "file_extension": ".py",
   "mimetype": "text/x-python",
   "name": "python",
   "nbconvert_exporter": "python",
   "pygments_lexer": "ipython2",
   "version": "2.7.11"
  }
 },
 "nbformat": 4,
 "nbformat_minor": 0
}
