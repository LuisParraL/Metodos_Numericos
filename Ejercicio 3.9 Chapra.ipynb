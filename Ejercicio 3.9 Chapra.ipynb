{
 "cells": [
  {
   "cell_type": "code",
   "execution_count": 12,
   "metadata": {
    "collapsed": false
   },
   "outputs": [
    {
     "name": "stdout",
     "output_type": "stream",
     "text": [
      "El coseno por métodos numéricos es aproximadamente : 0.58778525\n"
     ]
    }
   ],
   "source": [
    "import math\n",
    "x=0.3*math.pi\n",
    "aux=0\n",
    "coseno=0\n",
    "for i in range (10):\n",
    "    i=i*2\n",
    "    cosx=math.pow(x,i)/math.factorial(i)\n",
    "    aux=aux+1\n",
    "    if (aux % 2 == 0):\n",
    "        coseno += cosx\n",
    "    else:\n",
    "        coseno -= cosx\n",
    "coseno=round((coseno*-1),8)\n",
    "print \"El coseno por métodos numéricos es aproximadamente : \" +str(coseno)"
   ]
  },
  {
   "cell_type": "code",
   "execution_count": null,
   "metadata": {
    "collapsed": true
   },
   "outputs": [],
   "source": []
  }
 ],
 "metadata": {
  "kernelspec": {
   "display_name": "Python 2",
   "language": "python",
   "name": "python2"
  },
  "language_info": {
   "codemirror_mode": {
    "name": "ipython",
    "version": 2
   },
   "file_extension": ".py",
   "mimetype": "text/x-python",
   "name": "python",
   "nbconvert_exporter": "python",
   "pygments_lexer": "ipython2",
   "version": "2.7.11"
  }
 },
 "nbformat": 4,
 "nbformat_minor": 0
}
