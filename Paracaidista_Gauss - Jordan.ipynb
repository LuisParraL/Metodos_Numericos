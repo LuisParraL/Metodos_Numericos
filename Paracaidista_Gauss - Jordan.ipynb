{
 "cells": [
  {
   "cell_type": "code",
   "execution_count": 12,
   "metadata": {
    "collapsed": false
   },
   "outputs": [
    {
     "name": "stdout",
     "output_type": "stream",
     "text": [
      "La solución para a es:  8.5941 m/s^2\n",
      "La solución para T es:  34.4118 N\n",
      "La solución para R es:  36.7647 N\n"
     ]
    }
   ],
   "source": [
    "n,cte,m = 3,0,[]\n",
    "for i in range(0,n):\n",
    "    m.append([0.0]*(n+1))\n",
    "\n",
    "m[0][0],m[0][1],m[0][2],m[0][3],m[1][0],m[1][1],m[1][2],m[1][3],m[2][0],m[2][1],m[2][2],m[2][3]=70.0,1.0,0.0,636.0,60.0,-1.0,1.0,518.0,40.0,0.0,-1.0,307.0 \n",
    "\n",
    "\n",
    "def unos(m,cte,n):\n",
    "    temp=0.0\n",
    "    temp=m[cte][cte]\n",
    "    for y in range(0,n+1):\n",
    "        m[cte][y]=m[cte][y]/temp\n",
    "        \n",
    "def hacerCeros(m,cte,n):\n",
    "    for x in range(0,n):\n",
    "        if (x!=cte):\n",
    "            c = m[x][cte]\n",
    "            for z in range(0,n+1):\n",
    "                m[x][z]=((-1*c)*m[cte][z])+m[x][z]\n",
    "                \n",
    "for a in range(0,n):\n",
    "    unos(m,cte,n)\n",
    "    hacerCeros(m,cte,n)\n",
    "    cte += 1\n",
    "\n",
    "\n",
    "print \"La solución para a es: \", (float(format((m[0][3]), '.5g'))),\"m/s^2\"\n",
    "print \"La solución para T es: \", (float(format((m[1][3]), '.6g'))), \"N\"\n",
    "print \"La solución para R es: \", (float(format((m[2][3]), '.6g'))),\"N\""
   ]
  }
 ],
 "metadata": {
  "kernelspec": {
   "display_name": "Python 2",
   "language": "python",
   "name": "python2"
  },
  "language_info": {
   "codemirror_mode": {
    "name": "ipython",
    "version": 2
   },
   "file_extension": ".py",
   "mimetype": "text/x-python",
   "name": "python",
   "nbconvert_exporter": "python",
   "pygments_lexer": "ipython2",
   "version": "2.7.11"
  }
 },
 "nbformat": 4,
 "nbformat_minor": 0
}
